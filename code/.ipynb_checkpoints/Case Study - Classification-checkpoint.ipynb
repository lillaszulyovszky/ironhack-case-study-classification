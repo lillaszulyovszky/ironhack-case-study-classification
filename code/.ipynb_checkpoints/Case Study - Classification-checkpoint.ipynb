{
 "cells": [
  {
   "cell_type": "markdown",
   "id": "extensive-candy",
   "metadata": {},
   "source": [
    "# Case Study: Classification\n",
    "\n",
    "The bank wants to understand the demographics and other characteristics of its customers that accept a credit card offer and that do not accept a credit card.\n",
    "\n",
    "**Our main question is: <br/>**\n",
    "*Will the customer accept the credit card offer? Y/N*\n",
    "\n",
    "\n",
    "The **definition of the features** is the following:\n",
    "- **Customer Number:** A sequential number assigned to the customers (this column is hidden and excluded – this unique identifier will not be used directly).\n",
    "- **Offer Accepted:** Did the customer accept (Yes) or reject (No) the offer. Reward: The type of reward program offered for the card.\n",
    "- **Mailer Type:** Letter or postcard.\n",
    "- **Income Level:** Low, Medium or High.\n",
    "- **#Bank Accounts Open:** How many non-credit-card accounts are held by the customer.\n",
    "- **Overdraft Protection:** Does the customer have overdraft protection on their checking account(s) (Yes or No).\n",
    "- **Credit Rating:** Low, Medium or High.\n",
    "- **#Credit Cards Held:** The number of credit cards held at the bank.\n",
    "- **#Homes Owned:** The number of homes owned by the customer.\n",
    "- **Household Size:** Number of individuals in the family.\n",
    "- **Own Your Home:** Does the customer own their home? (Yes or No).\n",
    "- **Average Balance:** Average account balance (across all accounts over time). Q1, Q2, Q3 and Q4\n",
    "- **Balance:** Average balance for each quarter in the last year\n"
   ]
  },
  {
   "cell_type": "markdown",
   "id": "boolean-genre",
   "metadata": {},
   "source": [
    "### Tables of Content\n",
    "\n",
    "<ul>\n",
    "<li><a ref=\"#eda\">1. Exploratory Data Analysis</a></li>\n",
    "<li><a ref=\"#cleaning\">2. Cleaning</a></li>\n",
    "<li><a ref=\"#prep\">3. Preprocessing</a></li>\n",
    "<li><a ref=\"#modelling\">4. Modelling</a></li>\n",
    "</ul>\n"
   ]
  },
  {
   "cell_type": "markdown",
   "id": "suffering-clarity",
   "metadata": {},
   "source": [
    "<a id=’eda’></a>\n",
    "# 1. Exploratory Data Analysis"
   ]
  },
  {
   "cell_type": "markdown",
   "id": "english-mediterranean",
   "metadata": {},
   "source": [
    "In this part we want to familirize ourselves with the data set. We are going to look at the following steps:\n",
    "- assess dataframe \n",
    "- shape, dtypes, statistics\n",
    "- null values, white spaces, duplicates, (amount)unique values per col /unique(written same), mislabeled classes (male ≠ Male), typos/inconsistent capitalisation, irrelevant columns\n",
    "- missing data\n",
    "- visualisations"
   ]
  },
  {
   "cell_type": "code",
   "execution_count": 1,
   "id": "applied-swiss",
   "metadata": {},
   "outputs": [],
   "source": [
    "# import basic libraries \n",
    "import numpy as np\n",
    "import pandas as pd\n",
    "import matplotlib.pyplot as plt\n",
    "import seaborn as sns\n",
    "\n",
    "%matplotlib inline\n",
    "\n",
    "# load dataset into a pandas dataframe\n",
    "# renaming columns\n",
    "data = pd.read_csv('../data_sets/creditcardmarketing.csv')\n",
    "data.to_csv('../data_sets/creditcardmarketing.csv', header=['customer_number','offer_accepted','reward','mailer_type', 'income_level','bank_accounts_open','overdraft_protection','credit_rating','credit_cards_held','homes_owned','household_size','own_home','avg_balance','q1_balance','q2_balance','q3_balance','q4_balance'], index=False)"
   ]
  },
  {
   "cell_type": "code",
   "execution_count": 163,
   "id": "split-marriage",
   "metadata": {},
   "outputs": [
    {
     "data": {
      "text/html": [
       "<div>\n",
       "<style scoped>\n",
       "    .dataframe tbody tr th:only-of-type {\n",
       "        vertical-align: middle;\n",
       "    }\n",
       "\n",
       "    .dataframe tbody tr th {\n",
       "        vertical-align: top;\n",
       "    }\n",
       "\n",
       "    .dataframe thead th {\n",
       "        text-align: right;\n",
       "    }\n",
       "</style>\n",
       "<table border=\"1\" class=\"dataframe\">\n",
       "  <thead>\n",
       "    <tr style=\"text-align: right;\">\n",
       "      <th></th>\n",
       "      <th>offer_accepted</th>\n",
       "      <th>reward</th>\n",
       "      <th>mailer_type</th>\n",
       "      <th>income_level</th>\n",
       "      <th>bank_accounts_open</th>\n",
       "      <th>overdraft_protection</th>\n",
       "      <th>credit_rating</th>\n",
       "      <th>credit_cards_held</th>\n",
       "      <th>homes_owned</th>\n",
       "      <th>household_size</th>\n",
       "      <th>own_home</th>\n",
       "      <th>avg_balance</th>\n",
       "      <th>q1_balance</th>\n",
       "      <th>q2_balance</th>\n",
       "      <th>q3_balance</th>\n",
       "      <th>q4_balance</th>\n",
       "    </tr>\n",
       "  </thead>\n",
       "  <tbody>\n",
       "    <tr>\n",
       "      <th>0</th>\n",
       "      <td>No</td>\n",
       "      <td>Air Miles</td>\n",
       "      <td>Letter</td>\n",
       "      <td>Medium</td>\n",
       "      <td>One</td>\n",
       "      <td>No</td>\n",
       "      <td>Medium</td>\n",
       "      <td>Two</td>\n",
       "      <td>Two</td>\n",
       "      <td>Five</td>\n",
       "      <td>Yes</td>\n",
       "      <td>147</td>\n",
       "      <td>39</td>\n",
       "      <td>106</td>\n",
       "      <td>78</td>\n",
       "      <td>366</td>\n",
       "    </tr>\n",
       "    <tr>\n",
       "      <th>1</th>\n",
       "      <td>No</td>\n",
       "      <td>Air Miles</td>\n",
       "      <td>Postcard</td>\n",
       "      <td>High</td>\n",
       "      <td>Two</td>\n",
       "      <td>No</td>\n",
       "      <td>Medium</td>\n",
       "      <td>Two</td>\n",
       "      <td>One</td>\n",
       "      <td>Two</td>\n",
       "      <td>Yes</td>\n",
       "      <td>276</td>\n",
       "      <td>367</td>\n",
       "      <td>352</td>\n",
       "      <td>145</td>\n",
       "      <td>242</td>\n",
       "    </tr>\n",
       "    <tr>\n",
       "      <th>2</th>\n",
       "      <td>No</td>\n",
       "      <td>Air Miles</td>\n",
       "      <td>Letter</td>\n",
       "      <td>Medium</td>\n",
       "      <td>Two</td>\n",
       "      <td>No</td>\n",
       "      <td>High</td>\n",
       "      <td>One</td>\n",
       "      <td>One</td>\n",
       "      <td>Four</td>\n",
       "      <td>No</td>\n",
       "      <td>1219</td>\n",
       "      <td>1578</td>\n",
       "      <td>1760</td>\n",
       "      <td>1119</td>\n",
       "      <td>419</td>\n",
       "    </tr>\n",
       "    <tr>\n",
       "      <th>3</th>\n",
       "      <td>No</td>\n",
       "      <td>Air Miles</td>\n",
       "      <td>Letter</td>\n",
       "      <td>Medium</td>\n",
       "      <td>One</td>\n",
       "      <td>No</td>\n",
       "      <td>Medium</td>\n",
       "      <td>Two</td>\n",
       "      <td>One</td>\n",
       "      <td>Six</td>\n",
       "      <td>Yes</td>\n",
       "      <td>1211</td>\n",
       "      <td>2140</td>\n",
       "      <td>1357</td>\n",
       "      <td>982</td>\n",
       "      <td>365</td>\n",
       "    </tr>\n",
       "    <tr>\n",
       "      <th>4</th>\n",
       "      <td>No</td>\n",
       "      <td>Air Miles</td>\n",
       "      <td>Letter</td>\n",
       "      <td>Medium</td>\n",
       "      <td>One</td>\n",
       "      <td>No</td>\n",
       "      <td>High</td>\n",
       "      <td>Three</td>\n",
       "      <td>One</td>\n",
       "      <td>Four</td>\n",
       "      <td>No</td>\n",
       "      <td>1114</td>\n",
       "      <td>1847</td>\n",
       "      <td>1365</td>\n",
       "      <td>750</td>\n",
       "      <td>497</td>\n",
       "    </tr>\n",
       "    <tr>\n",
       "      <th>5</th>\n",
       "      <td>No</td>\n",
       "      <td>Air Miles</td>\n",
       "      <td>Letter</td>\n",
       "      <td>Medium</td>\n",
       "      <td>One</td>\n",
       "      <td>No</td>\n",
       "      <td>Medium</td>\n",
       "      <td>Two</td>\n",
       "      <td>One</td>\n",
       "      <td>Three</td>\n",
       "      <td>No</td>\n",
       "      <td>283</td>\n",
       "      <td>468</td>\n",
       "      <td>188</td>\n",
       "      <td>347</td>\n",
       "      <td>132</td>\n",
       "    </tr>\n",
       "    <tr>\n",
       "      <th>6</th>\n",
       "      <td>No</td>\n",
       "      <td>Cash Back</td>\n",
       "      <td>Postcard</td>\n",
       "      <td>Low</td>\n",
       "      <td>One</td>\n",
       "      <td>No</td>\n",
       "      <td>Medium</td>\n",
       "      <td>Four</td>\n",
       "      <td>One</td>\n",
       "      <td>Four</td>\n",
       "      <td>Yes</td>\n",
       "      <td>278</td>\n",
       "      <td>132</td>\n",
       "      <td>391</td>\n",
       "      <td>285</td>\n",
       "      <td>306</td>\n",
       "    </tr>\n",
       "    <tr>\n",
       "      <th>7</th>\n",
       "      <td>No</td>\n",
       "      <td>Air Miles</td>\n",
       "      <td>Postcard</td>\n",
       "      <td>Medium</td>\n",
       "      <td>One</td>\n",
       "      <td>No</td>\n",
       "      <td>Low</td>\n",
       "      <td>Two</td>\n",
       "      <td>One</td>\n",
       "      <td>Four</td>\n",
       "      <td>Yes</td>\n",
       "      <td>1005</td>\n",
       "      <td>894</td>\n",
       "      <td>891</td>\n",
       "      <td>882</td>\n",
       "      <td>1353</td>\n",
       "    </tr>\n",
       "    <tr>\n",
       "      <th>8</th>\n",
       "      <td>No</td>\n",
       "      <td>Air Miles</td>\n",
       "      <td>Letter</td>\n",
       "      <td>High</td>\n",
       "      <td>Two</td>\n",
       "      <td>No</td>\n",
       "      <td>Low</td>\n",
       "      <td>Three</td>\n",
       "      <td>Two</td>\n",
       "      <td>Four</td>\n",
       "      <td>Yes</td>\n",
       "      <td>974</td>\n",
       "      <td>1814</td>\n",
       "      <td>1454</td>\n",
       "      <td>514</td>\n",
       "      <td>115</td>\n",
       "    </tr>\n",
       "    <tr>\n",
       "      <th>9</th>\n",
       "      <td>No</td>\n",
       "      <td>Air Miles</td>\n",
       "      <td>Postcard</td>\n",
       "      <td>Medium</td>\n",
       "      <td>One</td>\n",
       "      <td>No</td>\n",
       "      <td>Medium</td>\n",
       "      <td>Three</td>\n",
       "      <td>One</td>\n",
       "      <td>Two</td>\n",
       "      <td>Yes</td>\n",
       "      <td>1135</td>\n",
       "      <td>762</td>\n",
       "      <td>827</td>\n",
       "      <td>1454</td>\n",
       "      <td>1498</td>\n",
       "    </tr>\n",
       "    <tr>\n",
       "      <th>10</th>\n",
       "      <td>No</td>\n",
       "      <td>Cash Back</td>\n",
       "      <td>Postcard</td>\n",
       "      <td>High</td>\n",
       "      <td>One</td>\n",
       "      <td>No</td>\n",
       "      <td>Medium</td>\n",
       "      <td>Three</td>\n",
       "      <td>Two</td>\n",
       "      <td>Five</td>\n",
       "      <td>Yes</td>\n",
       "      <td>1221</td>\n",
       "      <td>551</td>\n",
       "      <td>1652</td>\n",
       "      <td>896</td>\n",
       "      <td>1785</td>\n",
       "    </tr>\n",
       "    <tr>\n",
       "      <th>11</th>\n",
       "      <td>No</td>\n",
       "      <td>Points</td>\n",
       "      <td>Letter</td>\n",
       "      <td>Medium</td>\n",
       "      <td>One</td>\n",
       "      <td>No</td>\n",
       "      <td>Low</td>\n",
       "      <td>One</td>\n",
       "      <td>One</td>\n",
       "      <td>Two</td>\n",
       "      <td>Yes</td>\n",
       "      <td>1150</td>\n",
       "      <td>1756</td>\n",
       "      <td>1402</td>\n",
       "      <td>969</td>\n",
       "      <td>475</td>\n",
       "    </tr>\n",
       "    <tr>\n",
       "      <th>12</th>\n",
       "      <td>No</td>\n",
       "      <td>Points</td>\n",
       "      <td>Letter</td>\n",
       "      <td>Low</td>\n",
       "      <td>One</td>\n",
       "      <td>No</td>\n",
       "      <td>High</td>\n",
       "      <td>One</td>\n",
       "      <td>One</td>\n",
       "      <td>Three</td>\n",
       "      <td>No</td>\n",
       "      <td>1052</td>\n",
       "      <td>1996</td>\n",
       "      <td>1038</td>\n",
       "      <td>439</td>\n",
       "      <td>736</td>\n",
       "    </tr>\n",
       "    <tr>\n",
       "      <th>13</th>\n",
       "      <td>No</td>\n",
       "      <td>Air Miles</td>\n",
       "      <td>Letter</td>\n",
       "      <td>Low</td>\n",
       "      <td>Two</td>\n",
       "      <td>No</td>\n",
       "      <td>High</td>\n",
       "      <td>Three</td>\n",
       "      <td>One</td>\n",
       "      <td>Three</td>\n",
       "      <td>Yes</td>\n",
       "      <td>1013</td>\n",
       "      <td>1819</td>\n",
       "      <td>901</td>\n",
       "      <td>854</td>\n",
       "      <td>479</td>\n",
       "    </tr>\n",
       "    <tr>\n",
       "      <th>14</th>\n",
       "      <td>No</td>\n",
       "      <td>Cash Back</td>\n",
       "      <td>Letter</td>\n",
       "      <td>High</td>\n",
       "      <td>One</td>\n",
       "      <td>No</td>\n",
       "      <td>Low</td>\n",
       "      <td>Two</td>\n",
       "      <td>One</td>\n",
       "      <td>Two</td>\n",
       "      <td>No</td>\n",
       "      <td>1012</td>\n",
       "      <td>1715</td>\n",
       "      <td>1486</td>\n",
       "      <td>713</td>\n",
       "      <td>135</td>\n",
       "    </tr>\n",
       "  </tbody>\n",
       "</table>\n",
       "</div>"
      ],
      "text/plain": [
       "   offer_accepted     reward mailer_type income_level bank_accounts_open  \\\n",
       "0              No  Air Miles      Letter       Medium                One   \n",
       "1              No  Air Miles    Postcard         High                Two   \n",
       "2              No  Air Miles      Letter       Medium                Two   \n",
       "3              No  Air Miles      Letter       Medium                One   \n",
       "4              No  Air Miles      Letter       Medium                One   \n",
       "5              No  Air Miles      Letter       Medium                One   \n",
       "6              No  Cash Back    Postcard          Low                One   \n",
       "7              No  Air Miles    Postcard       Medium                One   \n",
       "8              No  Air Miles      Letter         High                Two   \n",
       "9              No  Air Miles    Postcard       Medium                One   \n",
       "10             No  Cash Back    Postcard         High                One   \n",
       "11             No     Points      Letter       Medium                One   \n",
       "12             No     Points      Letter          Low                One   \n",
       "13             No  Air Miles      Letter          Low                Two   \n",
       "14             No  Cash Back      Letter         High                One   \n",
       "\n",
       "   overdraft_protection credit_rating credit_cards_held homes_owned  \\\n",
       "0                    No        Medium               Two         Two   \n",
       "1                    No        Medium               Two         One   \n",
       "2                    No          High               One         One   \n",
       "3                    No        Medium               Two         One   \n",
       "4                    No          High             Three         One   \n",
       "5                    No        Medium               Two         One   \n",
       "6                    No        Medium              Four         One   \n",
       "7                    No           Low               Two         One   \n",
       "8                    No           Low             Three         Two   \n",
       "9                    No        Medium             Three         One   \n",
       "10                   No        Medium             Three         Two   \n",
       "11                   No           Low               One         One   \n",
       "12                   No          High               One         One   \n",
       "13                   No          High             Three         One   \n",
       "14                   No           Low               Two         One   \n",
       "\n",
       "   household_size own_home  avg_balance  q1_balance  q2_balance  q3_balance  \\\n",
       "0            Five      Yes          147          39         106          78   \n",
       "1             Two      Yes          276         367         352         145   \n",
       "2            Four       No         1219        1578        1760        1119   \n",
       "3             Six      Yes         1211        2140        1357         982   \n",
       "4            Four       No         1114        1847        1365         750   \n",
       "5           Three       No          283         468         188         347   \n",
       "6            Four      Yes          278         132         391         285   \n",
       "7            Four      Yes         1005         894         891         882   \n",
       "8            Four      Yes          974        1814        1454         514   \n",
       "9             Two      Yes         1135         762         827        1454   \n",
       "10           Five      Yes         1221         551        1652         896   \n",
       "11            Two      Yes         1150        1756        1402         969   \n",
       "12          Three       No         1052        1996        1038         439   \n",
       "13          Three      Yes         1013        1819         901         854   \n",
       "14            Two       No         1012        1715        1486         713   \n",
       "\n",
       "    q4_balance  \n",
       "0          366  \n",
       "1          242  \n",
       "2          419  \n",
       "3          365  \n",
       "4          497  \n",
       "5          132  \n",
       "6          306  \n",
       "7         1353  \n",
       "8          115  \n",
       "9         1498  \n",
       "10        1785  \n",
       "11         475  \n",
       "12         736  \n",
       "13         479  \n",
       "14         135  "
      ]
     },
     "execution_count": 163,
     "metadata": {},
     "output_type": "execute_result"
    }
   ],
   "source": [
    "#test\n",
    "data.head(15)"
   ]
  },
  {
   "cell_type": "markdown",
   "id": "several-amazon",
   "metadata": {},
   "source": [
    "### Assess dataframe"
   ]
  },
  {
   "cell_type": "code",
   "execution_count": 5,
   "id": "constitutional-fifteen",
   "metadata": {},
   "outputs": [
    {
     "data": {
      "text/plain": [
       "(17999, 17)"
      ]
     },
     "execution_count": 5,
     "metadata": {},
     "output_type": "execute_result"
    }
   ],
   "source": [
    "# assess shape\n",
    "data.shape"
   ]
  },
  {
   "cell_type": "code",
   "execution_count": 6,
   "id": "pointed-hundred",
   "metadata": {},
   "outputs": [
    {
     "data": {
      "text/plain": [
       "Index(['customer_number', 'offer_accepted', 'reward', 'mailer_type',\n",
       "       'income_level', 'bank_accounts_open', 'overdraft_protection',\n",
       "       'credit_rating', 'credit_cards_held', 'homes_owned', 'household_size',\n",
       "       'own_home', 'avg_balance', 'q1_balance', 'q2_balance', 'q3_balance',\n",
       "       'q4_balance'],\n",
       "      dtype='object')"
      ]
     },
     "execution_count": 6,
     "metadata": {},
     "output_type": "execute_result"
    }
   ],
   "source": [
    "# assess column names\n",
    "data.columns"
   ]
  },
  {
   "cell_type": "code",
   "execution_count": 7,
   "id": "ordered-participant",
   "metadata": {},
   "outputs": [
    {
     "data": {
      "text/plain": [
       "customer_number           int64\n",
       "offer_accepted           object\n",
       "reward                   object\n",
       "mailer_type              object\n",
       "income_level             object\n",
       "bank_accounts_open        int64\n",
       "overdraft_protection     object\n",
       "credit_rating            object\n",
       "credit_cards_held         int64\n",
       "homes_owned               int64\n",
       "household_size            int64\n",
       "own_home                 object\n",
       "avg_balance             float64\n",
       "q1_balance              float64\n",
       "q2_balance              float64\n",
       "q3_balance              float64\n",
       "q4_balance              float64\n",
       "dtype: object"
      ]
     },
     "execution_count": 7,
     "metadata": {},
     "output_type": "execute_result"
    }
   ],
   "source": [
    "#data types of columns\n",
    "data.dtypes"
   ]
  },
  {
   "cell_type": "code",
   "execution_count": 8,
   "id": "conventional-interest",
   "metadata": {},
   "outputs": [
    {
     "name": "stdout",
     "output_type": "stream",
     "text": [
      "<class 'pandas.core.frame.DataFrame'>\n",
      "RangeIndex: 17999 entries, 0 to 17998\n",
      "Data columns (total 17 columns):\n",
      " #   Column                Non-Null Count  Dtype  \n",
      "---  ------                --------------  -----  \n",
      " 0   customer_number       17999 non-null  int64  \n",
      " 1   offer_accepted        17999 non-null  object \n",
      " 2   reward                17999 non-null  object \n",
      " 3   mailer_type           17999 non-null  object \n",
      " 4   income_level          17999 non-null  object \n",
      " 5   bank_accounts_open    17999 non-null  int64  \n",
      " 6   overdraft_protection  17999 non-null  object \n",
      " 7   credit_rating         17999 non-null  object \n",
      " 8   credit_cards_held     17999 non-null  int64  \n",
      " 9   homes_owned           17999 non-null  int64  \n",
      " 10  household_size        17999 non-null  int64  \n",
      " 11  own_home              17999 non-null  object \n",
      " 12  avg_balance           17975 non-null  float64\n",
      " 13  q1_balance            17975 non-null  float64\n",
      " 14  q2_balance            17975 non-null  float64\n",
      " 15  q3_balance            17975 non-null  float64\n",
      " 16  q4_balance            17975 non-null  float64\n",
      "dtypes: float64(5), int64(5), object(7)\n",
      "memory usage: 2.3+ MB\n"
     ]
    }
   ],
   "source": [
    "# list of columns, their non-null objects and data type of columns\n",
    "data.info()"
   ]
  },
  {
   "cell_type": "markdown",
   "id": "utility-bulgaria",
   "metadata": {},
   "source": [
    "- 'customer_number' as this is only an index, which we already have, so we dont need it twice.<br/><br/>\n",
    "- The rest of the data types look suiting to their description."
   ]
  },
  {
   "cell_type": "code",
   "execution_count": 9,
   "id": "empirical-continent",
   "metadata": {},
   "outputs": [
    {
     "data": {
      "text/plain": [
       "customer_number          0\n",
       "offer_accepted           0\n",
       "reward                   0\n",
       "mailer_type              0\n",
       "income_level             0\n",
       "bank_accounts_open       0\n",
       "overdraft_protection     0\n",
       "credit_rating            0\n",
       "credit_cards_held        0\n",
       "homes_owned              0\n",
       "household_size           0\n",
       "own_home                 0\n",
       "avg_balance             24\n",
       "q1_balance              24\n",
       "q2_balance              24\n",
       "q3_balance              24\n",
       "q4_balance              24\n",
       "dtype: int64"
      ]
     },
     "execution_count": 9,
     "metadata": {},
     "output_type": "execute_result"
    }
   ],
   "source": [
    "#check, if there are any nulls and NaN values in our data set\n",
    "data.isna().sum()"
   ]
  },
  {
   "cell_type": "markdown",
   "id": "billion-chile",
   "metadata": {},
   "source": [
    "We can see that there are 24 entries for avg balance and q1-q5 balances, that have null values.<br/>\n",
    "We suspect, that these 24 values are all the same rows for the 5 features.\n",
    "24 out of 18.000 values is a faily small amount, which would justify to either drop the rows or replace the null values with the mean.<br/>\n",
    "We will do so in the data cleaning phase."
   ]
  },
  {
   "cell_type": "code",
   "execution_count": 10,
   "id": "olive-jacket",
   "metadata": {},
   "outputs": [
    {
     "data": {
      "text/plain": [
       "0"
      ]
     },
     "execution_count": 10,
     "metadata": {},
     "output_type": "execute_result"
    }
   ],
   "source": [
    "# assess df's duplicated values\n",
    "sum(data.duplicated())"
   ]
  },
  {
   "cell_type": "markdown",
   "id": "occupied-memory",
   "metadata": {},
   "source": [
    "Next step is to look at the **unique values in the categorical features**:"
   ]
  },
  {
   "cell_type": "code",
   "execution_count": 11,
   "id": "suited-shanghai",
   "metadata": {},
   "outputs": [
    {
     "data": {
      "text/plain": [
       "array(['No', 'Yes'], dtype=object)"
      ]
     },
     "execution_count": 11,
     "metadata": {},
     "output_type": "execute_result"
    }
   ],
   "source": [
    "# check unique values\n",
    "data['offer_accepted'].unique()"
   ]
  },
  {
   "cell_type": "code",
   "execution_count": 12,
   "id": "qualified-demonstration",
   "metadata": {},
   "outputs": [
    {
     "data": {
      "text/plain": [
       "array(['Air Miles', 'Cash Back', 'Points'], dtype=object)"
      ]
     },
     "execution_count": 12,
     "metadata": {},
     "output_type": "execute_result"
    }
   ],
   "source": [
    "# check unique values\n",
    "data['reward'].unique()"
   ]
  },
  {
   "cell_type": "code",
   "execution_count": 13,
   "id": "talented-slovenia",
   "metadata": {},
   "outputs": [
    {
     "data": {
      "text/plain": [
       "array(['Letter', 'Postcard'], dtype=object)"
      ]
     },
     "execution_count": 13,
     "metadata": {},
     "output_type": "execute_result"
    }
   ],
   "source": [
    "# check unique values\n",
    "data['mailer_type'].unique()"
   ]
  },
  {
   "cell_type": "code",
   "execution_count": 14,
   "id": "loved-aging",
   "metadata": {},
   "outputs": [
    {
     "data": {
      "text/plain": [
       "array(['Medium', 'High', 'Low'], dtype=object)"
      ]
     },
     "execution_count": 14,
     "metadata": {},
     "output_type": "execute_result"
    }
   ],
   "source": [
    "# check unique values\n",
    "data['income_level'].unique()"
   ]
  },
  {
   "cell_type": "code",
   "execution_count": 15,
   "id": "corrected-active",
   "metadata": {},
   "outputs": [
    {
     "data": {
      "text/plain": [
       "array(['No', 'Yes'], dtype=object)"
      ]
     },
     "execution_count": 15,
     "metadata": {},
     "output_type": "execute_result"
    }
   ],
   "source": [
    "# check unique values\n",
    "data['overdraft_protection'].unique()"
   ]
  },
  {
   "cell_type": "code",
   "execution_count": 16,
   "id": "grave-float",
   "metadata": {},
   "outputs": [
    {
     "data": {
      "text/plain": [
       "array(['Medium', 'High', 'Low'], dtype=object)"
      ]
     },
     "execution_count": 16,
     "metadata": {},
     "output_type": "execute_result"
    }
   ],
   "source": [
    "# check unique values\n",
    "data['credit_rating'].unique()"
   ]
  },
  {
   "cell_type": "code",
   "execution_count": 17,
   "id": "cutting-australia",
   "metadata": {},
   "outputs": [
    {
     "data": {
      "text/plain": [
       "array(['Yes', 'No'], dtype=object)"
      ]
     },
     "execution_count": 17,
     "metadata": {},
     "output_type": "execute_result"
    }
   ],
   "source": [
    "# check unique values\n",
    "data['own_home'].unique()"
   ]
  },
  {
   "cell_type": "markdown",
   "id": "abstract-medicaid",
   "metadata": {},
   "source": [
    "All the unique values seem to be normal and expected."
   ]
  },
  {
   "cell_type": "markdown",
   "id": "acquired-consensus",
   "metadata": {},
   "source": [
    "We want to see the outliers in the numerical dataframe too."
   ]
  },
  {
   "cell_type": "code",
   "execution_count": 18,
   "id": "olympic-services",
   "metadata": {},
   "outputs": [
    {
     "data": {
      "text/html": [
       "<div>\n",
       "<style scoped>\n",
       "    .dataframe tbody tr th:only-of-type {\n",
       "        vertical-align: middle;\n",
       "    }\n",
       "\n",
       "    .dataframe tbody tr th {\n",
       "        vertical-align: top;\n",
       "    }\n",
       "\n",
       "    .dataframe thead th {\n",
       "        text-align: right;\n",
       "    }\n",
       "</style>\n",
       "<table border=\"1\" class=\"dataframe\">\n",
       "  <thead>\n",
       "    <tr style=\"text-align: right;\">\n",
       "      <th></th>\n",
       "      <th>customer_number</th>\n",
       "      <th>bank_accounts_open</th>\n",
       "      <th>credit_cards_held</th>\n",
       "      <th>homes_owned</th>\n",
       "      <th>household_size</th>\n",
       "      <th>avg_balance</th>\n",
       "      <th>q1_balance</th>\n",
       "      <th>q2_balance</th>\n",
       "      <th>q3_balance</th>\n",
       "      <th>q4_balance</th>\n",
       "    </tr>\n",
       "  </thead>\n",
       "  <tbody>\n",
       "    <tr>\n",
       "      <th>count</th>\n",
       "      <td>17999.000000</td>\n",
       "      <td>17999.000000</td>\n",
       "      <td>17999.000000</td>\n",
       "      <td>17999.000000</td>\n",
       "      <td>17999.000000</td>\n",
       "      <td>17975.000000</td>\n",
       "      <td>17975.000000</td>\n",
       "      <td>17975.000000</td>\n",
       "      <td>17975.000000</td>\n",
       "      <td>17975.000000</td>\n",
       "    </tr>\n",
       "    <tr>\n",
       "      <th>mean</th>\n",
       "      <td>9001.000000</td>\n",
       "      <td>1.255792</td>\n",
       "      <td>1.903495</td>\n",
       "      <td>1.203456</td>\n",
       "      <td>3.499028</td>\n",
       "      <td>940.503310</td>\n",
       "      <td>910.408456</td>\n",
       "      <td>999.398999</td>\n",
       "      <td>1042.030654</td>\n",
       "      <td>810.175132</td>\n",
       "    </tr>\n",
       "    <tr>\n",
       "      <th>std</th>\n",
       "      <td>5196.008083</td>\n",
       "      <td>0.472510</td>\n",
       "      <td>0.797031</td>\n",
       "      <td>0.427350</td>\n",
       "      <td>1.114207</td>\n",
       "      <td>350.303729</td>\n",
       "      <td>620.068494</td>\n",
       "      <td>457.414081</td>\n",
       "      <td>553.467854</td>\n",
       "      <td>559.015084</td>\n",
       "    </tr>\n",
       "    <tr>\n",
       "      <th>min</th>\n",
       "      <td>2.000000</td>\n",
       "      <td>1.000000</td>\n",
       "      <td>1.000000</td>\n",
       "      <td>1.000000</td>\n",
       "      <td>1.000000</td>\n",
       "      <td>48.250000</td>\n",
       "      <td>0.000000</td>\n",
       "      <td>0.000000</td>\n",
       "      <td>0.000000</td>\n",
       "      <td>0.000000</td>\n",
       "    </tr>\n",
       "    <tr>\n",
       "      <th>25%</th>\n",
       "      <td>4501.500000</td>\n",
       "      <td>1.000000</td>\n",
       "      <td>1.000000</td>\n",
       "      <td>1.000000</td>\n",
       "      <td>3.000000</td>\n",
       "      <td>787.500000</td>\n",
       "      <td>392.500000</td>\n",
       "      <td>663.000000</td>\n",
       "      <td>633.000000</td>\n",
       "      <td>363.000000</td>\n",
       "    </tr>\n",
       "    <tr>\n",
       "      <th>50%</th>\n",
       "      <td>9001.000000</td>\n",
       "      <td>1.000000</td>\n",
       "      <td>2.000000</td>\n",
       "      <td>1.000000</td>\n",
       "      <td>3.000000</td>\n",
       "      <td>1007.000000</td>\n",
       "      <td>772.000000</td>\n",
       "      <td>1032.000000</td>\n",
       "      <td>945.000000</td>\n",
       "      <td>703.000000</td>\n",
       "    </tr>\n",
       "    <tr>\n",
       "      <th>75%</th>\n",
       "      <td>13500.500000</td>\n",
       "      <td>1.000000</td>\n",
       "      <td>2.000000</td>\n",
       "      <td>1.000000</td>\n",
       "      <td>4.000000</td>\n",
       "      <td>1153.125000</td>\n",
       "      <td>1521.000000</td>\n",
       "      <td>1342.000000</td>\n",
       "      <td>1463.000000</td>\n",
       "      <td>1212.000000</td>\n",
       "    </tr>\n",
       "    <tr>\n",
       "      <th>max</th>\n",
       "      <td>18000.000000</td>\n",
       "      <td>3.000000</td>\n",
       "      <td>4.000000</td>\n",
       "      <td>3.000000</td>\n",
       "      <td>9.000000</td>\n",
       "      <td>3366.250000</td>\n",
       "      <td>3450.000000</td>\n",
       "      <td>3421.000000</td>\n",
       "      <td>3823.000000</td>\n",
       "      <td>4215.000000</td>\n",
       "    </tr>\n",
       "  </tbody>\n",
       "</table>\n",
       "</div>"
      ],
      "text/plain": [
       "       customer_number  bank_accounts_open  credit_cards_held   homes_owned  \\\n",
       "count     17999.000000        17999.000000       17999.000000  17999.000000   \n",
       "mean       9001.000000            1.255792           1.903495      1.203456   \n",
       "std        5196.008083            0.472510           0.797031      0.427350   \n",
       "min           2.000000            1.000000           1.000000      1.000000   \n",
       "25%        4501.500000            1.000000           1.000000      1.000000   \n",
       "50%        9001.000000            1.000000           2.000000      1.000000   \n",
       "75%       13500.500000            1.000000           2.000000      1.000000   \n",
       "max       18000.000000            3.000000           4.000000      3.000000   \n",
       "\n",
       "       household_size   avg_balance    q1_balance    q2_balance    q3_balance  \\\n",
       "count    17999.000000  17975.000000  17975.000000  17975.000000  17975.000000   \n",
       "mean         3.499028    940.503310    910.408456    999.398999   1042.030654   \n",
       "std          1.114207    350.303729    620.068494    457.414081    553.467854   \n",
       "min          1.000000     48.250000      0.000000      0.000000      0.000000   \n",
       "25%          3.000000    787.500000    392.500000    663.000000    633.000000   \n",
       "50%          3.000000   1007.000000    772.000000   1032.000000    945.000000   \n",
       "75%          4.000000   1153.125000   1521.000000   1342.000000   1463.000000   \n",
       "max          9.000000   3366.250000   3450.000000   3421.000000   3823.000000   \n",
       "\n",
       "         q4_balance  \n",
       "count  17975.000000  \n",
       "mean     810.175132  \n",
       "std      559.015084  \n",
       "min        0.000000  \n",
       "25%      363.000000  \n",
       "50%      703.000000  \n",
       "75%     1212.000000  \n",
       "max     4215.000000  "
      ]
     },
     "execution_count": 18,
     "metadata": {},
     "output_type": "execute_result"
    }
   ],
   "source": [
    "# check for outliers in the numerical dataframe\n",
    "data.describe()"
   ]
  },
  {
   "cell_type": "markdown",
   "id": "aerial-salad",
   "metadata": {},
   "source": [
    "Numerical values seems valid, we don't see any outliers which would make our lives harder when training the model."
   ]
  },
  {
   "cell_type": "code",
   "execution_count": 19,
   "id": "analyzed-harrison",
   "metadata": {},
   "outputs": [
    {
     "data": {
      "text/plain": [
       "True"
      ]
     },
     "execution_count": 19,
     "metadata": {},
     "output_type": "execute_result"
    }
   ],
   "source": [
    "# check for null or NaN values\n",
    "data['avg_balance'].isnull().values.any()"
   ]
  },
  {
   "cell_type": "code",
   "execution_count": 20,
   "id": "cheap-drinking",
   "metadata": {},
   "outputs": [
    {
     "data": {
      "text/plain": [
       "True"
      ]
     },
     "execution_count": 20,
     "metadata": {},
     "output_type": "execute_result"
    }
   ],
   "source": [
    "# check for null or NaN values\n",
    "data['q1_balance'].isnull().values.any()"
   ]
  },
  {
   "cell_type": "code",
   "execution_count": 21,
   "id": "assigned-modeling",
   "metadata": {},
   "outputs": [
    {
     "data": {
      "text/plain": [
       "True"
      ]
     },
     "execution_count": 21,
     "metadata": {},
     "output_type": "execute_result"
    }
   ],
   "source": [
    "# check for null or NaN values\n",
    "data['q2_balance'].isnull().values.any()"
   ]
  },
  {
   "cell_type": "code",
   "execution_count": 22,
   "id": "separate-clinton",
   "metadata": {},
   "outputs": [
    {
     "data": {
      "text/plain": [
       "True"
      ]
     },
     "execution_count": 22,
     "metadata": {},
     "output_type": "execute_result"
    }
   ],
   "source": [
    "# check for null or NaN values\n",
    "data['q3_balance'].isnull().values.any()"
   ]
  },
  {
   "cell_type": "code",
   "execution_count": 23,
   "id": "patient-intelligence",
   "metadata": {},
   "outputs": [
    {
     "data": {
      "text/plain": [
       "True"
      ]
     },
     "execution_count": 23,
     "metadata": {},
     "output_type": "execute_result"
    }
   ],
   "source": [
    "# check for null or NaN values\n",
    "data['q4_balance'].isnull().values.any()"
   ]
  },
  {
   "cell_type": "markdown",
   "id": "administrative-feeling",
   "metadata": {},
   "source": [
    "### Summary of Assesment\n",
    "- customer_number column makes no difference if exists or not\n",
    "- we have 24 null values we need to drop\n",
    "- float values will cause problems later so we need to convert them to integers"
   ]
  },
  {
   "cell_type": "markdown",
   "id": "popular-diploma",
   "metadata": {},
   "source": [
    "## Visualisations"
   ]
  },
  {
   "cell_type": "markdown",
   "id": "united-protest",
   "metadata": {},
   "source": [
    "We want to visualise the relationships between between the different features in the data."
   ]
  },
  {
   "cell_type": "code",
   "execution_count": 24,
   "id": "sapphire-worse",
   "metadata": {},
   "outputs": [
    {
     "data": {
      "image/png": "[encoded data removed]",
      "text/plain": [
       "<Figure size 360x360 with 1 Axes>"
      ]
     },
     "metadata": {
      "needs_background": "light"
     },
     "output_type": "display_data"
    }
   ],
   "source": [
    "# how many accepted the offer vs who didn't\n",
    "sns.displot(data['offer_accepted']);"
   ]
  },
  {
   "cell_type": "code",
   "execution_count": 25,
   "id": "digital-garlic",
   "metadata": {},
   "outputs": [
    {
     "data": {
      "image/png": "[encoded data removed]",
      "text/plain": [
       "<Figure size 442.375x360 with 1 Axes>"
      ]
     },
     "metadata": {
      "needs_background": "light"
     },
     "output_type": "display_data"
    }
   ],
   "source": [
    "# what's the avg balance of customers who accepted the offer vs who didn't\n",
    "sns.displot(data, x='avg_balance', hue='offer_accepted');"
   ]
  },
  {
   "cell_type": "code",
   "execution_count": 26,
   "id": "threaded-weapon",
   "metadata": {},
   "outputs": [
    {
     "data": {
      "image/png": "[encoded data removed]",
      "text/plain": [
       "<Figure size 432x288 with 1 Axes>"
      ]
     },
     "metadata": {
      "needs_background": "light"
     },
     "output_type": "display_data"
    }
   ],
   "source": [
    "# different income levels of who accepted the offer vs who didn't\n",
    "sns.countplot(data = data, x = 'offer_accepted', hue = 'income_level');"
   ]
  },
  {
   "cell_type": "code",
   "execution_count": 27,
   "id": "written-classics",
   "metadata": {},
   "outputs": [
    {
     "data": {
      "image/png": "[encoded data removed]",
      "text/plain": [
       "<Figure size 432x288 with 1 Axes>"
      ]
     },
     "metadata": {
      "needs_background": "light"
     },
     "output_type": "display_data"
    }
   ],
   "source": [
    "# amount of homes owned\n",
    "sns.countplot(data = data, x = 'offer_accepted', hue = 'homes_owned');"
   ]
  },
  {
   "cell_type": "markdown",
   "id": "broad-rwanda",
   "metadata": {},
   "source": [
    "Let's see the relationship between the quarters and offer accepted."
   ]
  },
  {
   "cell_type": "code",
   "execution_count": 28,
   "id": "agreed-spoke",
   "metadata": {},
   "outputs": [
    {
     "data": {
      "image/png": "[encoded data removed]",
      "text/plain": [
       "<Figure size 442.375x360 with 1 Axes>"
      ]
     },
     "metadata": {
      "needs_background": "light"
     },
     "output_type": "display_data"
    }
   ],
   "source": [
    "# what's the q1 balance of customers who accepted the offer vs who didn't\n",
    "sns.displot(data, x='q1_balance', hue='offer_accepted');"
   ]
  },
  {
   "cell_type": "code",
   "execution_count": 29,
   "id": "christian-convention",
   "metadata": {},
   "outputs": [
    {
     "data": {
      "image/png": "[encoded data removed]",
      "text/plain": [
       "<Figure size 442.375x360 with 1 Axes>"
      ]
     },
     "metadata": {
      "needs_background": "light"
     },
     "output_type": "display_data"
    }
   ],
   "source": [
    "# what's the q2 balance of customers who accepted the offer vs who didn't\n",
    "sns.displot(data, x='q2_balance', hue='offer_accepted');"
   ]
  },
  {
   "cell_type": "code",
   "execution_count": 30,
   "id": "automatic-bones",
   "metadata": {},
   "outputs": [
    {
     "data": {
      "image/png": "[encoded data removed]",
      "text/plain": [
       "<Figure size 442.375x360 with 1 Axes>"
      ]
     },
     "metadata": {
      "needs_background": "light"
     },
     "output_type": "display_data"
    }
   ],
   "source": [
    "# what's the q3 balance of customers who accepted the offer vs who didn't\n",
    "sns.displot(data, x='q3_balance', hue='offer_accepted');"
   ]
  },
  {
   "cell_type": "code",
   "execution_count": 31,
   "id": "golden-decade",
   "metadata": {},
   "outputs": [
    {
     "data": {
      "image/png": "[encoded data removed]",
      "text/plain": [
       "<Figure size 442.375x360 with 1 Axes>"
      ]
     },
     "metadata": {
      "needs_background": "light"
     },
     "output_type": "display_data"
    }
   ],
   "source": [
    "# what's the q4 balance of customers who accepted the offer vs who didn't\n",
    "sns.displot(data, x='q4_balance', hue='offer_accepted');"
   ]
  },
  {
   "cell_type": "markdown",
   "id": "consecutive-shakespeare",
   "metadata": {},
   "source": [
    "### Summary of Visual Assessment\n",
    "\n",
    "We could not conclude too much with the visualisations only so we will proceed towards cleaning the data and training our model and \n",
    "exploring feature relationships further in Tableau."
   ]
  },
  {
   "cell_type": "markdown",
   "id": "destroyed-corrections",
   "metadata": {},
   "source": [
    "<a id=’cleaning’></a>\n",
    "# 2. Cleaning & Wrangling"
   ]
  },
  {
   "cell_type": "markdown",
   "id": "registered-romantic",
   "metadata": {},
   "source": [
    "**Tasks**\n",
    "- drop 'customer_number' column\n",
    "- drop null values\n",
    "- convert float columns to int"
   ]
  },
  {
   "cell_type": "code",
   "execution_count": 32,
   "id": "induced-wealth",
   "metadata": {},
   "outputs": [],
   "source": [
    "# before cleaning, create a copy of the dataframe\n",
    "data_copy = data.copy()"
   ]
  },
  {
   "cell_type": "code",
   "execution_count": 33,
   "id": "turkish-bailey",
   "metadata": {},
   "outputs": [],
   "source": [
    "# drop customer_number column\n",
    "data.drop(['customer_number'], axis=1, inplace=True)"
   ]
  },
  {
   "cell_type": "code",
   "execution_count": 34,
   "id": "bronze-domain",
   "metadata": {},
   "outputs": [
    {
     "data": {
      "text/html": [
       "<div>\n",
       "<style scoped>\n",
       "    .dataframe tbody tr th:only-of-type {\n",
       "        vertical-align: middle;\n",
       "    }\n",
       "\n",
       "    .dataframe tbody tr th {\n",
       "        vertical-align: top;\n",
       "    }\n",
       "\n",
       "    .dataframe thead th {\n",
       "        text-align: right;\n",
       "    }\n",
       "</style>\n",
       "<table border=\"1\" class=\"dataframe\">\n",
       "  <thead>\n",
       "    <tr style=\"text-align: right;\">\n",
       "      <th></th>\n",
       "      <th>offer_accepted</th>\n",
       "      <th>reward</th>\n",
       "      <th>mailer_type</th>\n",
       "      <th>income_level</th>\n",
       "      <th>bank_accounts_open</th>\n",
       "      <th>overdraft_protection</th>\n",
       "      <th>credit_rating</th>\n",
       "      <th>credit_cards_held</th>\n",
       "      <th>homes_owned</th>\n",
       "      <th>household_size</th>\n",
       "      <th>own_home</th>\n",
       "      <th>avg_balance</th>\n",
       "      <th>q1_balance</th>\n",
       "      <th>q2_balance</th>\n",
       "      <th>q3_balance</th>\n",
       "      <th>q4_balance</th>\n",
       "    </tr>\n",
       "  </thead>\n",
       "  <tbody>\n",
       "    <tr>\n",
       "      <th>0</th>\n",
       "      <td>No</td>\n",
       "      <td>Air Miles</td>\n",
       "      <td>Letter</td>\n",
       "      <td>Medium</td>\n",
       "      <td>1</td>\n",
       "      <td>No</td>\n",
       "      <td>Medium</td>\n",
       "      <td>2</td>\n",
       "      <td>2</td>\n",
       "      <td>5</td>\n",
       "      <td>Yes</td>\n",
       "      <td>147.25</td>\n",
       "      <td>39.0</td>\n",
       "      <td>106.0</td>\n",
       "      <td>78.0</td>\n",
       "      <td>366.0</td>\n",
       "    </tr>\n",
       "    <tr>\n",
       "      <th>1</th>\n",
       "      <td>No</td>\n",
       "      <td>Air Miles</td>\n",
       "      <td>Postcard</td>\n",
       "      <td>High</td>\n",
       "      <td>2</td>\n",
       "      <td>No</td>\n",
       "      <td>Medium</td>\n",
       "      <td>2</td>\n",
       "      <td>1</td>\n",
       "      <td>2</td>\n",
       "      <td>Yes</td>\n",
       "      <td>276.50</td>\n",
       "      <td>367.0</td>\n",
       "      <td>352.0</td>\n",
       "      <td>145.0</td>\n",
       "      <td>242.0</td>\n",
       "    </tr>\n",
       "    <tr>\n",
       "      <th>2</th>\n",
       "      <td>No</td>\n",
       "      <td>Air Miles</td>\n",
       "      <td>Letter</td>\n",
       "      <td>Medium</td>\n",
       "      <td>2</td>\n",
       "      <td>No</td>\n",
       "      <td>High</td>\n",
       "      <td>1</td>\n",
       "      <td>1</td>\n",
       "      <td>4</td>\n",
       "      <td>No</td>\n",
       "      <td>1219.00</td>\n",
       "      <td>1578.0</td>\n",
       "      <td>1760.0</td>\n",
       "      <td>1119.0</td>\n",
       "      <td>419.0</td>\n",
       "    </tr>\n",
       "    <tr>\n",
       "      <th>3</th>\n",
       "      <td>No</td>\n",
       "      <td>Air Miles</td>\n",
       "      <td>Letter</td>\n",
       "      <td>Medium</td>\n",
       "      <td>1</td>\n",
       "      <td>No</td>\n",
       "      <td>Medium</td>\n",
       "      <td>2</td>\n",
       "      <td>1</td>\n",
       "      <td>6</td>\n",
       "      <td>Yes</td>\n",
       "      <td>1211.00</td>\n",
       "      <td>2140.0</td>\n",
       "      <td>1357.0</td>\n",
       "      <td>982.0</td>\n",
       "      <td>365.0</td>\n",
       "    </tr>\n",
       "    <tr>\n",
       "      <th>4</th>\n",
       "      <td>No</td>\n",
       "      <td>Air Miles</td>\n",
       "      <td>Letter</td>\n",
       "      <td>Medium</td>\n",
       "      <td>1</td>\n",
       "      <td>No</td>\n",
       "      <td>High</td>\n",
       "      <td>3</td>\n",
       "      <td>1</td>\n",
       "      <td>4</td>\n",
       "      <td>No</td>\n",
       "      <td>1114.75</td>\n",
       "      <td>1847.0</td>\n",
       "      <td>1365.0</td>\n",
       "      <td>750.0</td>\n",
       "      <td>497.0</td>\n",
       "    </tr>\n",
       "  </tbody>\n",
       "</table>\n",
       "</div>"
      ],
      "text/plain": [
       "  offer_accepted     reward mailer_type income_level  bank_accounts_open  \\\n",
       "0             No  Air Miles      Letter       Medium                   1   \n",
       "1             No  Air Miles    Postcard         High                   2   \n",
       "2             No  Air Miles      Letter       Medium                   2   \n",
       "3             No  Air Miles      Letter       Medium                   1   \n",
       "4             No  Air Miles      Letter       Medium                   1   \n",
       "\n",
       "  overdraft_protection credit_rating  credit_cards_held  homes_owned  \\\n",
       "0                   No        Medium                  2            2   \n",
       "1                   No        Medium                  2            1   \n",
       "2                   No          High                  1            1   \n",
       "3                   No        Medium                  2            1   \n",
       "4                   No          High                  3            1   \n",
       "\n",
       "   household_size own_home  avg_balance  q1_balance  q2_balance  q3_balance  \\\n",
       "0               5      Yes       147.25        39.0       106.0        78.0   \n",
       "1               2      Yes       276.50       367.0       352.0       145.0   \n",
       "2               4       No      1219.00      1578.0      1760.0      1119.0   \n",
       "3               6      Yes      1211.00      2140.0      1357.0       982.0   \n",
       "4               4       No      1114.75      1847.0      1365.0       750.0   \n",
       "\n",
       "   q4_balance  \n",
       "0       366.0  \n",
       "1       242.0  \n",
       "2       419.0  \n",
       "3       365.0  \n",
       "4       497.0  "
      ]
     },
     "execution_count": 34,
     "metadata": {},
     "output_type": "execute_result"
    }
   ],
   "source": [
    "#test\n",
    "data.head()"
   ]
  },
  {
   "cell_type": "code",
   "execution_count": 35,
   "id": "young-sarah",
   "metadata": {},
   "outputs": [],
   "source": [
    "# drop rows with missing values\n",
    "data = data.dropna()"
   ]
  },
  {
   "cell_type": "code",
   "execution_count": 36,
   "id": "efficient-bailey",
   "metadata": {},
   "outputs": [
    {
     "name": "stdout",
     "output_type": "stream",
     "text": [
      "<class 'pandas.core.frame.DataFrame'>\n",
      "Int64Index: 17975 entries, 0 to 17998\n",
      "Data columns (total 16 columns):\n",
      " #   Column                Non-Null Count  Dtype  \n",
      "---  ------                --------------  -----  \n",
      " 0   offer_accepted        17975 non-null  object \n",
      " 1   reward                17975 non-null  object \n",
      " 2   mailer_type           17975 non-null  object \n",
      " 3   income_level          17975 non-null  object \n",
      " 4   bank_accounts_open    17975 non-null  int64  \n",
      " 5   overdraft_protection  17975 non-null  object \n",
      " 6   credit_rating         17975 non-null  object \n",
      " 7   credit_cards_held     17975 non-null  int64  \n",
      " 8   homes_owned           17975 non-null  int64  \n",
      " 9   household_size        17975 non-null  int64  \n",
      " 10  own_home              17975 non-null  object \n",
      " 11  avg_balance           17975 non-null  float64\n",
      " 12  q1_balance            17975 non-null  float64\n",
      " 13  q2_balance            17975 non-null  float64\n",
      " 14  q3_balance            17975 non-null  float64\n",
      " 15  q4_balance            17975 non-null  float64\n",
      "dtypes: float64(5), int64(4), object(7)\n",
      "memory usage: 2.3+ MB\n"
     ]
    }
   ],
   "source": [
    "#test \n",
    "data.info()"
   ]
  },
  {
   "cell_type": "code",
   "execution_count": 37,
   "id": "restricted-tunnel",
   "metadata": {},
   "outputs": [
    {
     "data": {
      "text/plain": [
       "offer_accepted          0\n",
       "reward                  0\n",
       "mailer_type             0\n",
       "income_level            0\n",
       "bank_accounts_open      0\n",
       "overdraft_protection    0\n",
       "credit_rating           0\n",
       "credit_cards_held       0\n",
       "homes_owned             0\n",
       "household_size          0\n",
       "own_home                0\n",
       "avg_balance             0\n",
       "q1_balance              0\n",
       "q2_balance              0\n",
       "q3_balance              0\n",
       "q4_balance              0\n",
       "dtype: int64"
      ]
     },
     "execution_count": 37,
     "metadata": {},
     "output_type": "execute_result"
    }
   ],
   "source": [
    "# test2\n",
    "data.isna().sum()"
   ]
  },
  {
   "cell_type": "code",
   "execution_count": 38,
   "id": "detected-label",
   "metadata": {},
   "outputs": [],
   "source": [
    "# converting columns from float to int\n",
    "data = data.astype({\"avg_balance\":'int', \"q1_balance\":'int',\"q2_balance\":'int',\"q3_balance\":'int',\"q4_balance\":'int'}) "
   ]
  },
  {
   "cell_type": "code",
   "execution_count": 39,
   "id": "pursuant-christian",
   "metadata": {},
   "outputs": [
    {
     "name": "stdout",
     "output_type": "stream",
     "text": [
      "<class 'pandas.core.frame.DataFrame'>\n",
      "Int64Index: 17975 entries, 0 to 17998\n",
      "Data columns (total 16 columns):\n",
      " #   Column                Non-Null Count  Dtype \n",
      "---  ------                --------------  ----- \n",
      " 0   offer_accepted        17975 non-null  object\n",
      " 1   reward                17975 non-null  object\n",
      " 2   mailer_type           17975 non-null  object\n",
      " 3   income_level          17975 non-null  object\n",
      " 4   bank_accounts_open    17975 non-null  int64 \n",
      " 5   overdraft_protection  17975 non-null  object\n",
      " 6   credit_rating         17975 non-null  object\n",
      " 7   credit_cards_held     17975 non-null  int64 \n",
      " 8   homes_owned           17975 non-null  int64 \n",
      " 9   household_size        17975 non-null  int64 \n",
      " 10  own_home              17975 non-null  object\n",
      " 11  avg_balance           17975 non-null  int64 \n",
      " 12  q1_balance            17975 non-null  int64 \n",
      " 13  q2_balance            17975 non-null  int64 \n",
      " 14  q3_balance            17975 non-null  int64 \n",
      " 15  q4_balance            17975 non-null  int64 \n",
      "dtypes: int64(9), object(7)\n",
      "memory usage: 2.3+ MB\n"
     ]
    }
   ],
   "source": [
    "#test \n",
    "data.info()"
   ]
  },
  {
   "cell_type": "markdown",
   "id": "informal-necessity",
   "metadata": {},
   "source": [
    "<a id=’prep’></a>\n",
    "# 3. Preprocessing"
   ]
  },
  {
   "cell_type": "markdown",
   "id": "sharing-binding",
   "metadata": {},
   "source": [
    "**Tasks:**\n",
    "- num vs cat data (split)\n",
    "- multicollinearity\n",
    "- imbalance\n",
    "- distribution plots (normalising, scaling, outlier detection)\n",
    "- normalizer\n",
    "- encoding into dummies"
   ]
  },
  {
   "cell_type": "code",
   "execution_count": 40,
   "id": "israeli-reception",
   "metadata": {},
   "outputs": [
    {
     "data": {
      "text/html": [
       "<div>\n",
       "<style scoped>\n",
       "    .dataframe tbody tr th:only-of-type {\n",
       "        vertical-align: middle;\n",
       "    }\n",
       "\n",
       "    .dataframe tbody tr th {\n",
       "        vertical-align: top;\n",
       "    }\n",
       "\n",
       "    .dataframe thead th {\n",
       "        text-align: right;\n",
       "    }\n",
       "</style>\n",
       "<table border=\"1\" class=\"dataframe\">\n",
       "  <thead>\n",
       "    <tr style=\"text-align: right;\">\n",
       "      <th></th>\n",
       "      <th>bank_accounts_open</th>\n",
       "      <th>credit_cards_held</th>\n",
       "      <th>homes_owned</th>\n",
       "      <th>household_size</th>\n",
       "      <th>avg_balance</th>\n",
       "      <th>q1_balance</th>\n",
       "      <th>q2_balance</th>\n",
       "      <th>q3_balance</th>\n",
       "      <th>q4_balance</th>\n",
       "    </tr>\n",
       "  </thead>\n",
       "  <tbody>\n",
       "    <tr>\n",
       "      <th>0</th>\n",
       "      <td>1</td>\n",
       "      <td>2</td>\n",
       "      <td>2</td>\n",
       "      <td>5</td>\n",
       "      <td>147</td>\n",
       "      <td>39</td>\n",
       "      <td>106</td>\n",
       "      <td>78</td>\n",
       "      <td>366</td>\n",
       "    </tr>\n",
       "    <tr>\n",
       "      <th>1</th>\n",
       "      <td>2</td>\n",
       "      <td>2</td>\n",
       "      <td>1</td>\n",
       "      <td>2</td>\n",
       "      <td>276</td>\n",
       "      <td>367</td>\n",
       "      <td>352</td>\n",
       "      <td>145</td>\n",
       "      <td>242</td>\n",
       "    </tr>\n",
       "    <tr>\n",
       "      <th>2</th>\n",
       "      <td>2</td>\n",
       "      <td>1</td>\n",
       "      <td>1</td>\n",
       "      <td>4</td>\n",
       "      <td>1219</td>\n",
       "      <td>1578</td>\n",
       "      <td>1760</td>\n",
       "      <td>1119</td>\n",
       "      <td>419</td>\n",
       "    </tr>\n",
       "    <tr>\n",
       "      <th>3</th>\n",
       "      <td>1</td>\n",
       "      <td>2</td>\n",
       "      <td>1</td>\n",
       "      <td>6</td>\n",
       "      <td>1211</td>\n",
       "      <td>2140</td>\n",
       "      <td>1357</td>\n",
       "      <td>982</td>\n",
       "      <td>365</td>\n",
       "    </tr>\n",
       "    <tr>\n",
       "      <th>4</th>\n",
       "      <td>1</td>\n",
       "      <td>3</td>\n",
       "      <td>1</td>\n",
       "      <td>4</td>\n",
       "      <td>1114</td>\n",
       "      <td>1847</td>\n",
       "      <td>1365</td>\n",
       "      <td>750</td>\n",
       "      <td>497</td>\n",
       "    </tr>\n",
       "  </tbody>\n",
       "</table>\n",
       "</div>"
      ],
      "text/plain": [
       "   bank_accounts_open  credit_cards_held  homes_owned  household_size  \\\n",
       "0                   1                  2            2               5   \n",
       "1                   2                  2            1               2   \n",
       "2                   2                  1            1               4   \n",
       "3                   1                  2            1               6   \n",
       "4                   1                  3            1               4   \n",
       "\n",
       "   avg_balance  q1_balance  q2_balance  q3_balance  q4_balance  \n",
       "0          147          39         106          78         366  \n",
       "1          276         367         352         145         242  \n",
       "2         1219        1578        1760        1119         419  \n",
       "3         1211        2140        1357         982         365  \n",
       "4         1114        1847        1365         750         497  "
      ]
     },
     "execution_count": 40,
     "metadata": {},
     "output_type": "execute_result"
    }
   ],
   "source": [
    "# split numerical and categorical data into two dataframes\n",
    "data_num = data.select_dtypes(include=['number'])\n",
    "data_num.head()"
   ]
  },
  {
   "cell_type": "code",
   "execution_count": 41,
   "id": "molecular-camera",
   "metadata": {},
   "outputs": [
    {
     "data": {
      "text/html": [
       "<div>\n",
       "<style scoped>\n",
       "    .dataframe tbody tr th:only-of-type {\n",
       "        vertical-align: middle;\n",
       "    }\n",
       "\n",
       "    .dataframe tbody tr th {\n",
       "        vertical-align: top;\n",
       "    }\n",
       "\n",
       "    .dataframe thead th {\n",
       "        text-align: right;\n",
       "    }\n",
       "</style>\n",
       "<table border=\"1\" class=\"dataframe\">\n",
       "  <thead>\n",
       "    <tr style=\"text-align: right;\">\n",
       "      <th></th>\n",
       "      <th>offer_accepted</th>\n",
       "      <th>reward</th>\n",
       "      <th>mailer_type</th>\n",
       "      <th>income_level</th>\n",
       "      <th>overdraft_protection</th>\n",
       "      <th>credit_rating</th>\n",
       "      <th>own_home</th>\n",
       "    </tr>\n",
       "  </thead>\n",
       "  <tbody>\n",
       "    <tr>\n",
       "      <th>0</th>\n",
       "      <td>No</td>\n",
       "      <td>Air Miles</td>\n",
       "      <td>Letter</td>\n",
       "      <td>Medium</td>\n",
       "      <td>No</td>\n",
       "      <td>Medium</td>\n",
       "      <td>Yes</td>\n",
       "    </tr>\n",
       "    <tr>\n",
       "      <th>1</th>\n",
       "      <td>No</td>\n",
       "      <td>Air Miles</td>\n",
       "      <td>Postcard</td>\n",
       "      <td>High</td>\n",
       "      <td>No</td>\n",
       "      <td>Medium</td>\n",
       "      <td>Yes</td>\n",
       "    </tr>\n",
       "    <tr>\n",
       "      <th>2</th>\n",
       "      <td>No</td>\n",
       "      <td>Air Miles</td>\n",
       "      <td>Letter</td>\n",
       "      <td>Medium</td>\n",
       "      <td>No</td>\n",
       "      <td>High</td>\n",
       "      <td>No</td>\n",
       "    </tr>\n",
       "    <tr>\n",
       "      <th>3</th>\n",
       "      <td>No</td>\n",
       "      <td>Air Miles</td>\n",
       "      <td>Letter</td>\n",
       "      <td>Medium</td>\n",
       "      <td>No</td>\n",
       "      <td>Medium</td>\n",
       "      <td>Yes</td>\n",
       "    </tr>\n",
       "    <tr>\n",
       "      <th>4</th>\n",
       "      <td>No</td>\n",
       "      <td>Air Miles</td>\n",
       "      <td>Letter</td>\n",
       "      <td>Medium</td>\n",
       "      <td>No</td>\n",
       "      <td>High</td>\n",
       "      <td>No</td>\n",
       "    </tr>\n",
       "  </tbody>\n",
       "</table>\n",
       "</div>"
      ],
      "text/plain": [
       "  offer_accepted     reward mailer_type income_level overdraft_protection  \\\n",
       "0             No  Air Miles      Letter       Medium                   No   \n",
       "1             No  Air Miles    Postcard         High                   No   \n",
       "2             No  Air Miles      Letter       Medium                   No   \n",
       "3             No  Air Miles      Letter       Medium                   No   \n",
       "4             No  Air Miles      Letter       Medium                   No   \n",
       "\n",
       "  credit_rating own_home  \n",
       "0        Medium      Yes  \n",
       "1        Medium      Yes  \n",
       "2          High       No  \n",
       "3        Medium      Yes  \n",
       "4          High       No  "
      ]
     },
     "execution_count": 41,
     "metadata": {},
     "output_type": "execute_result"
    }
   ],
   "source": [
    "# split numerical and categorical data into two dataframes\n",
    "data_cat = data.select_dtypes(include=['object'])\n",
    "data_cat.head()"
   ]
  },
  {
   "cell_type": "code",
   "execution_count": 42,
   "id": "induced-orchestra",
   "metadata": {},
   "outputs": [
    {
     "data": {
      "image/png": "[encoded data removed]",
      "text/plain": [
       "<Figure size 1296x720 with 2 Axes>"
      ]
     },
     "metadata": {
      "needs_background": "light"
     },
     "output_type": "display_data"
    }
   ],
   "source": [
    "#correlation for numerial columns\n",
    "corr_matrix = data_num.corr()\n",
    "fig, ax = plt.subplots(figsize = (18, 10))\n",
    "sns.heatmap(corr_matrix, cmap ='seismic', center = 0, annot=True);"
   ]
  },
  {
   "cell_type": "markdown",
   "id": "designing-malaysia",
   "metadata": {},
   "source": [
    "The corr matrix tells us which features are messing up our matrix. We might need to turn these features into categorical ones to have a clean correlation matrix and reduce noise in the model in a future iteration."
   ]
  },
  {
   "cell_type": "code",
   "execution_count": 43,
   "id": "chief-biodiversity",
   "metadata": {},
   "outputs": [],
   "source": [
    "#normalizer\n",
    "import numpy as np\n",
    "from sklearn.preprocessing import Normalizer\n",
    "X = data_num"
   ]
  },
  {
   "cell_type": "code",
   "execution_count": 44,
   "id": "attached-fruit",
   "metadata": {},
   "outputs": [
    {
     "data": {
      "text/html": [
       "<div>\n",
       "<style scoped>\n",
       "    .dataframe tbody tr th:only-of-type {\n",
       "        vertical-align: middle;\n",
       "    }\n",
       "\n",
       "    .dataframe tbody tr th {\n",
       "        vertical-align: top;\n",
       "    }\n",
       "\n",
       "    .dataframe thead th {\n",
       "        text-align: right;\n",
       "    }\n",
       "</style>\n",
       "<table border=\"1\" class=\"dataframe\">\n",
       "  <thead>\n",
       "    <tr style=\"text-align: right;\">\n",
       "      <th></th>\n",
       "      <th>bank_accounts_open</th>\n",
       "      <th>credit_cards_held</th>\n",
       "      <th>homes_owned</th>\n",
       "      <th>household_size</th>\n",
       "      <th>avg_balance</th>\n",
       "      <th>q1_balance</th>\n",
       "      <th>q2_balance</th>\n",
       "      <th>q3_balance</th>\n",
       "      <th>q4_balance</th>\n",
       "    </tr>\n",
       "  </thead>\n",
       "  <tbody>\n",
       "    <tr>\n",
       "      <th>0</th>\n",
       "      <td>1</td>\n",
       "      <td>2</td>\n",
       "      <td>2</td>\n",
       "      <td>5</td>\n",
       "      <td>147</td>\n",
       "      <td>39</td>\n",
       "      <td>106</td>\n",
       "      <td>78</td>\n",
       "      <td>366</td>\n",
       "    </tr>\n",
       "    <tr>\n",
       "      <th>1</th>\n",
       "      <td>2</td>\n",
       "      <td>2</td>\n",
       "      <td>1</td>\n",
       "      <td>2</td>\n",
       "      <td>276</td>\n",
       "      <td>367</td>\n",
       "      <td>352</td>\n",
       "      <td>145</td>\n",
       "      <td>242</td>\n",
       "    </tr>\n",
       "    <tr>\n",
       "      <th>2</th>\n",
       "      <td>2</td>\n",
       "      <td>1</td>\n",
       "      <td>1</td>\n",
       "      <td>4</td>\n",
       "      <td>1219</td>\n",
       "      <td>1578</td>\n",
       "      <td>1760</td>\n",
       "      <td>1119</td>\n",
       "      <td>419</td>\n",
       "    </tr>\n",
       "    <tr>\n",
       "      <th>3</th>\n",
       "      <td>1</td>\n",
       "      <td>2</td>\n",
       "      <td>1</td>\n",
       "      <td>6</td>\n",
       "      <td>1211</td>\n",
       "      <td>2140</td>\n",
       "      <td>1357</td>\n",
       "      <td>982</td>\n",
       "      <td>365</td>\n",
       "    </tr>\n",
       "    <tr>\n",
       "      <th>4</th>\n",
       "      <td>1</td>\n",
       "      <td>3</td>\n",
       "      <td>1</td>\n",
       "      <td>4</td>\n",
       "      <td>1114</td>\n",
       "      <td>1847</td>\n",
       "      <td>1365</td>\n",
       "      <td>750</td>\n",
       "      <td>497</td>\n",
       "    </tr>\n",
       "  </tbody>\n",
       "</table>\n",
       "</div>"
      ],
      "text/plain": [
       "   bank_accounts_open  credit_cards_held  homes_owned  household_size  \\\n",
       "0                   1                  2            2               5   \n",
       "1                   2                  2            1               2   \n",
       "2                   2                  1            1               4   \n",
       "3                   1                  2            1               6   \n",
       "4                   1                  3            1               4   \n",
       "\n",
       "   avg_balance  q1_balance  q2_balance  q3_balance  q4_balance  \n",
       "0          147          39         106          78         366  \n",
       "1          276         367         352         145         242  \n",
       "2         1219        1578        1760        1119         419  \n",
       "3         1211        2140        1357         982         365  \n",
       "4         1114        1847        1365         750         497  "
      ]
     },
     "execution_count": 44,
     "metadata": {},
     "output_type": "execute_result"
    }
   ],
   "source": [
    "#check X\n",
    "X.head(5)"
   ]
  },
  {
   "cell_type": "code",
   "execution_count": 45,
   "id": "alleged-proceeding",
   "metadata": {},
   "outputs": [],
   "source": [
    "# normalize and transform\n",
    "transformer = Normalizer().fit(X)\n",
    "x_normalized = transformer.transform(X)"
   ]
  },
  {
   "cell_type": "code",
   "execution_count": 46,
   "id": "opposite-latest",
   "metadata": {},
   "outputs": [],
   "source": [
    "# concat variables into X df\n",
    "X = pd.DataFrame(x_normalized, columns=X.columns)"
   ]
  },
  {
   "cell_type": "code",
   "execution_count": 47,
   "id": "south-arrest",
   "metadata": {},
   "outputs": [],
   "source": [
    "X_cols = X.columns"
   ]
  },
  {
   "cell_type": "code",
   "execution_count": 48,
   "id": "committed-intranet",
   "metadata": {},
   "outputs": [
    {
     "data": {
      "text/plain": [
       "Index(['offer_accepted', 'reward', 'mailer_type', 'income_level',\n",
       "       'overdraft_protection', 'credit_rating', 'own_home'],\n",
       "      dtype='object')"
      ]
     },
     "execution_count": 48,
     "metadata": {},
     "output_type": "execute_result"
    }
   ],
   "source": [
    "#check columns to copy into cat dataframe\n",
    "data_cat.columns"
   ]
  },
  {
   "cell_type": "code",
   "execution_count": 49,
   "id": "interim-credits",
   "metadata": {},
   "outputs": [],
   "source": [
    "#encoding categorical features\n",
    "cat = pd.get_dummies(data_cat, columns=['offer_accepted', 'reward', 'mailer_type', 'income_level',\n",
    "       'overdraft_protection', 'credit_rating', 'own_home'], drop_first = True)"
   ]
  },
  {
   "cell_type": "code",
   "execution_count": 50,
   "id": "cheap-hampshire",
   "metadata": {},
   "outputs": [
    {
     "data": {
      "text/html": [
       "<div>\n",
       "<style scoped>\n",
       "    .dataframe tbody tr th:only-of-type {\n",
       "        vertical-align: middle;\n",
       "    }\n",
       "\n",
       "    .dataframe tbody tr th {\n",
       "        vertical-align: top;\n",
       "    }\n",
       "\n",
       "    .dataframe thead th {\n",
       "        text-align: right;\n",
       "    }\n",
       "</style>\n",
       "<table border=\"1\" class=\"dataframe\">\n",
       "  <thead>\n",
       "    <tr style=\"text-align: right;\">\n",
       "      <th></th>\n",
       "      <th>offer_accepted_Yes</th>\n",
       "      <th>reward_Cash Back</th>\n",
       "      <th>reward_Points</th>\n",
       "      <th>mailer_type_Postcard</th>\n",
       "      <th>income_level_Low</th>\n",
       "      <th>income_level_Medium</th>\n",
       "      <th>overdraft_protection_Yes</th>\n",
       "      <th>credit_rating_Low</th>\n",
       "      <th>credit_rating_Medium</th>\n",
       "      <th>own_home_Yes</th>\n",
       "    </tr>\n",
       "  </thead>\n",
       "  <tbody>\n",
       "    <tr>\n",
       "      <th>0</th>\n",
       "      <td>0</td>\n",
       "      <td>0</td>\n",
       "      <td>0</td>\n",
       "      <td>0</td>\n",
       "      <td>0</td>\n",
       "      <td>1</td>\n",
       "      <td>0</td>\n",
       "      <td>0</td>\n",
       "      <td>1</td>\n",
       "      <td>1</td>\n",
       "    </tr>\n",
       "    <tr>\n",
       "      <th>1</th>\n",
       "      <td>0</td>\n",
       "      <td>0</td>\n",
       "      <td>0</td>\n",
       "      <td>1</td>\n",
       "      <td>0</td>\n",
       "      <td>0</td>\n",
       "      <td>0</td>\n",
       "      <td>0</td>\n",
       "      <td>1</td>\n",
       "      <td>1</td>\n",
       "    </tr>\n",
       "    <tr>\n",
       "      <th>2</th>\n",
       "      <td>0</td>\n",
       "      <td>0</td>\n",
       "      <td>0</td>\n",
       "      <td>0</td>\n",
       "      <td>0</td>\n",
       "      <td>1</td>\n",
       "      <td>0</td>\n",
       "      <td>0</td>\n",
       "      <td>0</td>\n",
       "      <td>0</td>\n",
       "    </tr>\n",
       "    <tr>\n",
       "      <th>3</th>\n",
       "      <td>0</td>\n",
       "      <td>0</td>\n",
       "      <td>0</td>\n",
       "      <td>0</td>\n",
       "      <td>0</td>\n",
       "      <td>1</td>\n",
       "      <td>0</td>\n",
       "      <td>0</td>\n",
       "      <td>1</td>\n",
       "      <td>1</td>\n",
       "    </tr>\n",
       "    <tr>\n",
       "      <th>4</th>\n",
       "      <td>0</td>\n",
       "      <td>0</td>\n",
       "      <td>0</td>\n",
       "      <td>0</td>\n",
       "      <td>0</td>\n",
       "      <td>1</td>\n",
       "      <td>0</td>\n",
       "      <td>0</td>\n",
       "      <td>0</td>\n",
       "      <td>0</td>\n",
       "    </tr>\n",
       "    <tr>\n",
       "      <th>...</th>\n",
       "      <td>...</td>\n",
       "      <td>...</td>\n",
       "      <td>...</td>\n",
       "      <td>...</td>\n",
       "      <td>...</td>\n",
       "      <td>...</td>\n",
       "      <td>...</td>\n",
       "      <td>...</td>\n",
       "      <td>...</td>\n",
       "      <td>...</td>\n",
       "    </tr>\n",
       "    <tr>\n",
       "      <th>17994</th>\n",
       "      <td>0</td>\n",
       "      <td>1</td>\n",
       "      <td>0</td>\n",
       "      <td>0</td>\n",
       "      <td>0</td>\n",
       "      <td>0</td>\n",
       "      <td>0</td>\n",
       "      <td>1</td>\n",
       "      <td>0</td>\n",
       "      <td>1</td>\n",
       "    </tr>\n",
       "    <tr>\n",
       "      <th>17995</th>\n",
       "      <td>0</td>\n",
       "      <td>1</td>\n",
       "      <td>0</td>\n",
       "      <td>0</td>\n",
       "      <td>0</td>\n",
       "      <td>0</td>\n",
       "      <td>0</td>\n",
       "      <td>1</td>\n",
       "      <td>0</td>\n",
       "      <td>1</td>\n",
       "    </tr>\n",
       "    <tr>\n",
       "      <th>17996</th>\n",
       "      <td>0</td>\n",
       "      <td>1</td>\n",
       "      <td>0</td>\n",
       "      <td>0</td>\n",
       "      <td>0</td>\n",
       "      <td>0</td>\n",
       "      <td>0</td>\n",
       "      <td>1</td>\n",
       "      <td>0</td>\n",
       "      <td>0</td>\n",
       "    </tr>\n",
       "    <tr>\n",
       "      <th>17997</th>\n",
       "      <td>0</td>\n",
       "      <td>1</td>\n",
       "      <td>0</td>\n",
       "      <td>0</td>\n",
       "      <td>0</td>\n",
       "      <td>1</td>\n",
       "      <td>0</td>\n",
       "      <td>0</td>\n",
       "      <td>1</td>\n",
       "      <td>1</td>\n",
       "    </tr>\n",
       "    <tr>\n",
       "      <th>17998</th>\n",
       "      <td>0</td>\n",
       "      <td>1</td>\n",
       "      <td>0</td>\n",
       "      <td>0</td>\n",
       "      <td>1</td>\n",
       "      <td>0</td>\n",
       "      <td>0</td>\n",
       "      <td>0</td>\n",
       "      <td>1</td>\n",
       "      <td>0</td>\n",
       "    </tr>\n",
       "  </tbody>\n",
       "</table>\n",
       "<p>17975 rows × 10 columns</p>\n",
       "</div>"
      ],
      "text/plain": [
       "       offer_accepted_Yes  reward_Cash Back  reward_Points  \\\n",
       "0                       0                 0              0   \n",
       "1                       0                 0              0   \n",
       "2                       0                 0              0   \n",
       "3                       0                 0              0   \n",
       "4                       0                 0              0   \n",
       "...                   ...               ...            ...   \n",
       "17994                   0                 1              0   \n",
       "17995                   0                 1              0   \n",
       "17996                   0                 1              0   \n",
       "17997                   0                 1              0   \n",
       "17998                   0                 1              0   \n",
       "\n",
       "       mailer_type_Postcard  income_level_Low  income_level_Medium  \\\n",
       "0                         0                 0                    1   \n",
       "1                         1                 0                    0   \n",
       "2                         0                 0                    1   \n",
       "3                         0                 0                    1   \n",
       "4                         0                 0                    1   \n",
       "...                     ...               ...                  ...   \n",
       "17994                     0                 0                    0   \n",
       "17995                     0                 0                    0   \n",
       "17996                     0                 0                    0   \n",
       "17997                     0                 0                    1   \n",
       "17998                     0                 1                    0   \n",
       "\n",
       "       overdraft_protection_Yes  credit_rating_Low  credit_rating_Medium  \\\n",
       "0                             0                  0                     1   \n",
       "1                             0                  0                     1   \n",
       "2                             0                  0                     0   \n",
       "3                             0                  0                     1   \n",
       "4                             0                  0                     0   \n",
       "...                         ...                ...                   ...   \n",
       "17994                         0                  1                     0   \n",
       "17995                         0                  1                     0   \n",
       "17996                         0                  1                     0   \n",
       "17997                         0                  0                     1   \n",
       "17998                         0                  0                     1   \n",
       "\n",
       "       own_home_Yes  \n",
       "0                 1  \n",
       "1                 1  \n",
       "2                 0  \n",
       "3                 1  \n",
       "4                 0  \n",
       "...             ...  \n",
       "17994             1  \n",
       "17995             1  \n",
       "17996             0  \n",
       "17997             1  \n",
       "17998             0  \n",
       "\n",
       "[17975 rows x 10 columns]"
      ]
     },
     "execution_count": 50,
     "metadata": {},
     "output_type": "execute_result"
    }
   ],
   "source": [
    "#test cat df\n",
    "cat"
   ]
  },
  {
   "cell_type": "code",
   "execution_count": 51,
   "id": "received-casting",
   "metadata": {},
   "outputs": [],
   "source": [
    "# dropping offer_accepted_Yes column as that's what we wanna predict\n",
    "cat_clean = cat.drop(['offer_accepted_Yes'], axis=1)"
   ]
  },
  {
   "cell_type": "code",
   "execution_count": 52,
   "id": "powered-butterfly",
   "metadata": {},
   "outputs": [
    {
     "data": {
      "text/html": [
       "<div>\n",
       "<style scoped>\n",
       "    .dataframe tbody tr th:only-of-type {\n",
       "        vertical-align: middle;\n",
       "    }\n",
       "\n",
       "    .dataframe tbody tr th {\n",
       "        vertical-align: top;\n",
       "    }\n",
       "\n",
       "    .dataframe thead th {\n",
       "        text-align: right;\n",
       "    }\n",
       "</style>\n",
       "<table border=\"1\" class=\"dataframe\">\n",
       "  <thead>\n",
       "    <tr style=\"text-align: right;\">\n",
       "      <th></th>\n",
       "      <th>reward_Cash Back</th>\n",
       "      <th>reward_Points</th>\n",
       "      <th>mailer_type_Postcard</th>\n",
       "      <th>income_level_Low</th>\n",
       "      <th>income_level_Medium</th>\n",
       "      <th>overdraft_protection_Yes</th>\n",
       "      <th>credit_rating_Low</th>\n",
       "      <th>credit_rating_Medium</th>\n",
       "      <th>own_home_Yes</th>\n",
       "    </tr>\n",
       "  </thead>\n",
       "  <tbody>\n",
       "    <tr>\n",
       "      <th>0</th>\n",
       "      <td>0</td>\n",
       "      <td>0</td>\n",
       "      <td>0</td>\n",
       "      <td>0</td>\n",
       "      <td>1</td>\n",
       "      <td>0</td>\n",
       "      <td>0</td>\n",
       "      <td>1</td>\n",
       "      <td>1</td>\n",
       "    </tr>\n",
       "    <tr>\n",
       "      <th>1</th>\n",
       "      <td>0</td>\n",
       "      <td>0</td>\n",
       "      <td>1</td>\n",
       "      <td>0</td>\n",
       "      <td>0</td>\n",
       "      <td>0</td>\n",
       "      <td>0</td>\n",
       "      <td>1</td>\n",
       "      <td>1</td>\n",
       "    </tr>\n",
       "    <tr>\n",
       "      <th>2</th>\n",
       "      <td>0</td>\n",
       "      <td>0</td>\n",
       "      <td>0</td>\n",
       "      <td>0</td>\n",
       "      <td>1</td>\n",
       "      <td>0</td>\n",
       "      <td>0</td>\n",
       "      <td>0</td>\n",
       "      <td>0</td>\n",
       "    </tr>\n",
       "    <tr>\n",
       "      <th>3</th>\n",
       "      <td>0</td>\n",
       "      <td>0</td>\n",
       "      <td>0</td>\n",
       "      <td>0</td>\n",
       "      <td>1</td>\n",
       "      <td>0</td>\n",
       "      <td>0</td>\n",
       "      <td>1</td>\n",
       "      <td>1</td>\n",
       "    </tr>\n",
       "    <tr>\n",
       "      <th>4</th>\n",
       "      <td>0</td>\n",
       "      <td>0</td>\n",
       "      <td>0</td>\n",
       "      <td>0</td>\n",
       "      <td>1</td>\n",
       "      <td>0</td>\n",
       "      <td>0</td>\n",
       "      <td>0</td>\n",
       "      <td>0</td>\n",
       "    </tr>\n",
       "    <tr>\n",
       "      <th>...</th>\n",
       "      <td>...</td>\n",
       "      <td>...</td>\n",
       "      <td>...</td>\n",
       "      <td>...</td>\n",
       "      <td>...</td>\n",
       "      <td>...</td>\n",
       "      <td>...</td>\n",
       "      <td>...</td>\n",
       "      <td>...</td>\n",
       "    </tr>\n",
       "    <tr>\n",
       "      <th>17994</th>\n",
       "      <td>1</td>\n",
       "      <td>0</td>\n",
       "      <td>0</td>\n",
       "      <td>0</td>\n",
       "      <td>0</td>\n",
       "      <td>0</td>\n",
       "      <td>1</td>\n",
       "      <td>0</td>\n",
       "      <td>1</td>\n",
       "    </tr>\n",
       "    <tr>\n",
       "      <th>17995</th>\n",
       "      <td>1</td>\n",
       "      <td>0</td>\n",
       "      <td>0</td>\n",
       "      <td>0</td>\n",
       "      <td>0</td>\n",
       "      <td>0</td>\n",
       "      <td>1</td>\n",
       "      <td>0</td>\n",
       "      <td>1</td>\n",
       "    </tr>\n",
       "    <tr>\n",
       "      <th>17996</th>\n",
       "      <td>1</td>\n",
       "      <td>0</td>\n",
       "      <td>0</td>\n",
       "      <td>0</td>\n",
       "      <td>0</td>\n",
       "      <td>0</td>\n",
       "      <td>1</td>\n",
       "      <td>0</td>\n",
       "      <td>0</td>\n",
       "    </tr>\n",
       "    <tr>\n",
       "      <th>17997</th>\n",
       "      <td>1</td>\n",
       "      <td>0</td>\n",
       "      <td>0</td>\n",
       "      <td>0</td>\n",
       "      <td>1</td>\n",
       "      <td>0</td>\n",
       "      <td>0</td>\n",
       "      <td>1</td>\n",
       "      <td>1</td>\n",
       "    </tr>\n",
       "    <tr>\n",
       "      <th>17998</th>\n",
       "      <td>1</td>\n",
       "      <td>0</td>\n",
       "      <td>0</td>\n",
       "      <td>1</td>\n",
       "      <td>0</td>\n",
       "      <td>0</td>\n",
       "      <td>0</td>\n",
       "      <td>1</td>\n",
       "      <td>0</td>\n",
       "    </tr>\n",
       "  </tbody>\n",
       "</table>\n",
       "<p>17975 rows × 9 columns</p>\n",
       "</div>"
      ],
      "text/plain": [
       "       reward_Cash Back  reward_Points  mailer_type_Postcard  \\\n",
       "0                     0              0                     0   \n",
       "1                     0              0                     1   \n",
       "2                     0              0                     0   \n",
       "3                     0              0                     0   \n",
       "4                     0              0                     0   \n",
       "...                 ...            ...                   ...   \n",
       "17994                 1              0                     0   \n",
       "17995                 1              0                     0   \n",
       "17996                 1              0                     0   \n",
       "17997                 1              0                     0   \n",
       "17998                 1              0                     0   \n",
       "\n",
       "       income_level_Low  income_level_Medium  overdraft_protection_Yes  \\\n",
       "0                     0                    1                         0   \n",
       "1                     0                    0                         0   \n",
       "2                     0                    1                         0   \n",
       "3                     0                    1                         0   \n",
       "4                     0                    1                         0   \n",
       "...                 ...                  ...                       ...   \n",
       "17994                 0                    0                         0   \n",
       "17995                 0                    0                         0   \n",
       "17996                 0                    0                         0   \n",
       "17997                 0                    1                         0   \n",
       "17998                 1                    0                         0   \n",
       "\n",
       "       credit_rating_Low  credit_rating_Medium  own_home_Yes  \n",
       "0                      0                     1             1  \n",
       "1                      0                     1             1  \n",
       "2                      0                     0             0  \n",
       "3                      0                     1             1  \n",
       "4                      0                     0             0  \n",
       "...                  ...                   ...           ...  \n",
       "17994                  1                     0             1  \n",
       "17995                  1                     0             1  \n",
       "17996                  1                     0             0  \n",
       "17997                  0                     1             1  \n",
       "17998                  0                     1             0  \n",
       "\n",
       "[17975 rows x 9 columns]"
      ]
     },
     "execution_count": 52,
     "metadata": {},
     "output_type": "execute_result"
    }
   ],
   "source": [
    "#test cat_clean df\n",
    "cat_clean"
   ]
  },
  {
   "cell_type": "markdown",
   "id": "southwest-franklin",
   "metadata": {},
   "source": [
    "**Spliting off depended variable (Label)**\n",
    "\n",
    "**'offer_accepted_Yes'**\n",
    "because we want to predict if the customer accepts the offer<br/><br/>\n",
    "offer accepted = YES = 1<br/>\n",
    "offer not accepted = NO = 0<br/>"
   ]
  },
  {
   "cell_type": "code",
   "execution_count": 53,
   "id": "amateur-colors",
   "metadata": {},
   "outputs": [],
   "source": [
    "#defining the target y\n",
    "y = cat['offer_accepted_Yes']"
   ]
  },
  {
   "cell_type": "code",
   "execution_count": 54,
   "id": "worse-confidentiality",
   "metadata": {},
   "outputs": [
    {
     "data": {
      "text/plain": [
       "(17975, 17975, 17975)"
      ]
     },
     "execution_count": 54,
     "metadata": {},
     "output_type": "execute_result"
    }
   ],
   "source": [
    "#checking the len of x_normalized & cat_clean before merginf back together in X\n",
    "len(x_normalized), len(y), len(data)"
   ]
  },
  {
   "cell_type": "code",
   "execution_count": 55,
   "id": "bizarre-astrology",
   "metadata": {},
   "outputs": [],
   "source": [
    "# bring the numerical data (scaled)in with the categorical\n",
    "X = np.concatenate((x_normalized, cat_clean),axis=1)"
   ]
  },
  {
   "cell_type": "code",
   "execution_count": 56,
   "id": "liberal-trade",
   "metadata": {},
   "outputs": [
    {
     "data": {
      "text/plain": [
       "array([[2.39429115e-03, 4.78858231e-03, 4.78858231e-03, ...,\n",
       "        0.00000000e+00, 1.00000000e+00, 1.00000000e+00],\n",
       "       [3.10695755e-03, 3.10695755e-03, 1.55347877e-03, ...,\n",
       "        0.00000000e+00, 1.00000000e+00, 1.00000000e+00],\n",
       "       [6.85938298e-04, 3.42969149e-04, 3.42969149e-04, ...,\n",
       "        0.00000000e+00, 0.00000000e+00, 0.00000000e+00],\n",
       "       ...,\n",
       "       [4.01171850e-04, 8.02343699e-04, 4.01171850e-04, ...,\n",
       "        1.00000000e+00, 0.00000000e+00, 0.00000000e+00],\n",
       "       [4.16698354e-04, 1.66679342e-03, 8.33396709e-04, ...,\n",
       "        0.00000000e+00, 1.00000000e+00, 1.00000000e+00],\n",
       "       [7.37191952e-04, 7.37191952e-04, 3.68595976e-04, ...,\n",
       "        0.00000000e+00, 1.00000000e+00, 0.00000000e+00]])"
      ]
     },
     "execution_count": 56,
     "metadata": {},
     "output_type": "execute_result"
    }
   ],
   "source": [
    "#test\n",
    "X"
   ]
  },
  {
   "cell_type": "markdown",
   "id": "touched-courtesy",
   "metadata": {},
   "source": [
    "<a id=’modelling’></a>\n",
    "# 4. Modelling"
   ]
  },
  {
   "cell_type": "markdown",
   "id": "classified-circumstances",
   "metadata": {},
   "source": [
    "**- iteration 1 (X)**\n",
    "\n",
    "In our first iteration we only used preprocessing and encoding, we use this as a benchmark for the next iterations to compare to.\n",
    "\n",
    "**- iteration 2 (X_i2)**\n",
    "\n",
    "SMOKE sampling to improve the imbalance of the target\n",
    "\n",
    "**- iteration 3 (X_i3)**\n",
    "\n",
    "dropping quarterly balance columns to reduce noise\n",
    "\n",
    "**- iteration 4 (X_i4)**\n",
    "\n",
    "encoding numerical features to categorical ones\n",
    "\n",
    "**- iteration 5 (X_i5)**\n",
    "\n",
    "using KNN on the i3"
   ]
  },
  {
   "cell_type": "markdown",
   "id": "boring-mission",
   "metadata": {},
   "source": [
    "### Modeling (X)"
   ]
  },
  {
   "cell_type": "code",
   "execution_count": 57,
   "id": "muslim-collection",
   "metadata": {},
   "outputs": [],
   "source": [
    "#import model\n",
    "from sklearn.linear_model import LogisticRegression\n",
    "from sklearn.model_selection import train_test_split\n",
    "from sklearn import metrics\n",
    "from sklearn.metrics import accuracy_score\n",
    "from sklearn.metrics import confusion_matrix\n",
    "from sklearn.metrics import plot_confusion_matrix"
   ]
  },
  {
   "cell_type": "markdown",
   "id": "shaped-fight",
   "metadata": {},
   "source": [
    "#### Test & Train"
   ]
  },
  {
   "cell_type": "code",
   "execution_count": 58,
   "id": "light-qualification",
   "metadata": {},
   "outputs": [],
   "source": [
    "#train test split - splitting X and y each into 2 data sets(train data and test data)\n",
    "X_train, X_test, y_train, y_test =train_test_split(X, y, test_size= 0.4, random_state=40)"
   ]
  },
  {
   "cell_type": "code",
   "execution_count": 59,
   "id": "waiting-adult",
   "metadata": {},
   "outputs": [],
   "source": [
    "#model development\n",
    "#create a Logistic Regression classifier (classification) object using LogisticRegression() function\n",
    "#fit model on the train set using fit()\n",
    "\n",
    "classification = LogisticRegression(random_state=0, solver='lbfgs',max_iter=400,\n",
    "                  multi_class='ovr').fit(X_train, y_train)"
   ]
  },
  {
   "cell_type": "code",
   "execution_count": 60,
   "id": "abroad-healing",
   "metadata": {},
   "outputs": [],
   "source": [
    "#perform prediction on the test set using predict()\n",
    "from sklearn.metrics import accuracy_score \n",
    "predictions = classification.predict(X_test)"
   ]
  },
  {
   "cell_type": "code",
   "execution_count": 61,
   "id": "surprising-continuity",
   "metadata": {},
   "outputs": [
    {
     "data": {
      "text/plain": [
       "array([0, 0, 0, ..., 0, 0, 0], dtype=uint8)"
      ]
     },
     "execution_count": 61,
     "metadata": {},
     "output_type": "execute_result"
    }
   ],
   "source": [
    "#check the predictions array\n",
    "predictions"
   ]
  },
  {
   "cell_type": "markdown",
   "id": "understood-davis",
   "metadata": {},
   "source": [
    "#### Accuracy Score"
   ]
  },
  {
   "cell_type": "code",
   "execution_count": 62,
   "id": "parallel-vitamin",
   "metadata": {},
   "outputs": [
    {
     "data": {
      "text/plain": [
       "0.9442280945757997"
      ]
     },
     "execution_count": 62,
     "metadata": {},
     "output_type": "execute_result"
    }
   ],
   "source": [
    "#calculating the accuracy score\n",
    "accuracy_score(y_test, predictions)"
   ]
  },
  {
   "cell_type": "markdown",
   "id": "spectacular-baptist",
   "metadata": {},
   "source": [
    "We have an accurcy score of 0.94, which is for the first itertion quiet good.\n",
    "Maybe we can improve it by som further feature engineering in the following iterations."
   ]
  },
  {
   "cell_type": "markdown",
   "id": "collectible-delaware",
   "metadata": {},
   "source": [
    "#### Confusion matrix"
   ]
  },
  {
   "cell_type": "code",
   "execution_count": 63,
   "id": "decent-chile",
   "metadata": {},
   "outputs": [
    {
     "data": {
      "text/plain": [
       "array([[6789,    0],\n",
       "       [ 401,    0]])"
      ]
     },
     "execution_count": 63,
     "metadata": {},
     "output_type": "execute_result"
    }
   ],
   "source": [
    "#defining the confusion matrix\n",
    "cnf_matrix = confusion_matrix(y_test, predictions)\n",
    "cnf_matrix"
   ]
  },
  {
   "cell_type": "code",
   "execution_count": 143,
   "id": "featured-reaction",
   "metadata": {},
   "outputs": [
    {
     "data": {
      "image/png": "[encoded data removed]",
      "text/plain": [
       "<Figure size 432x288 with 2 Axes>"
      ]
     },
     "metadata": {
      "needs_background": "light"
     },
     "output_type": "display_data"
    }
   ],
   "source": [
    "#visualizing the confusion matrix\n",
    "group_names = ['True Neg','False Pos','False Neg','True Pos']\n",
    "group_counts = ['{0:0.0f}'.format(value) for value in\n",
    "                cnf_matrix.flatten()]\n",
    "group_percentages = ['{0:.2%}'.format(value) for value in\n",
    "                     cnf_matrix.flatten()/np.sum(cnf_matrix)]\n",
    "labels = [f'{v1}\\n{v2}\\n{v3}' for v1, v2, v3 in\n",
    "          zip(group_names,group_counts,group_percentages)]\n",
    "labels = np.asarray(labels).reshape(2,2)\n",
    "sns.heatmap(cnf_matrix, annot=labels, fmt='', cmap='PuRd');"
   ]
  },
  {
   "cell_type": "markdown",
   "id": "cloudy-sellers",
   "metadata": {},
   "source": [
    "**First having a look again which is the dependend variable (here its offer accepted Yes/No)**<br/>\n",
    "0 = No - does not accept offer<br/>\n",
    "1 = Yes - accepts offer<br/><br/>\n",
    "\n",
    "**Explanations**<br/>\n",
    "TN(True negative,0/0) - model predict its No and it is No for 6789 values<br/>\n",
    "FN(False negative,1/0) - model predict its Yes, but its No for 401 values<br/>\n",
    "FP(False positive,0/1) - model predict its No, but its Yes for 0 values<br/>\n",
    "TP(True positive,1/1) - model predict its Yes and it is Yes for 0 values<br/><br/>\n",
    "\n",
    "**Conclusion**<br/>\n",
    "**FP** - It great, as its 0%.<br/>\n",
    "**FN** - 5% is not ideal, but still quiet ok.<br/>\n",
    "**TN** - This is great, 94% are correctly predicted.<br/>\n",
    "**TP** - Here is the real issue, because we dont have any true positive (correct predicted offers accepted), we cannot really predict if somebody will actually accept the offer.\n",
    "THis however is the cruicial part for the business case. It is good to know, that we can correctly predict if a customer will decline the offer, however we need to get more insights on the customers who accept the offers to see how we can convince the customers, who are declining at the moment.<br/>\n",
    "This is why we need to improve our TP value in the next iteration.<br/>\n",
    "This can be done by balancing our data for the offer accept feature. As of now it is heavily imbalanced and therefor we were not surprised by the outcome of the confusion amtrix."
   ]
  },
  {
   "cell_type": "markdown",
   "id": "atomic-smooth",
   "metadata": {},
   "source": [
    "#### ROC/AUC"
   ]
  },
  {
   "cell_type": "code",
   "execution_count": 162,
   "id": "subsequent-identification",
   "metadata": {
    "scrolled": true
   },
   "outputs": [
    {
     "data": {
      "image/png": "[encoded data removed]",
      "text/plain": [
       "<Figure size 432x288 with 1 Axes>"
      ]
     },
     "metadata": {
      "needs_background": "light"
     },
     "output_type": "display_data"
    }
   ],
   "source": [
    "#visualising the ROC and AUC\n",
    "y_pred_proba = classification.predict_proba(X_test)[::,1]\n",
    "fpr, tpr, _ = metrics.roc_curve(y_test,  y_pred_proba)\n",
    "auc = metrics.roc_auc_score(y_test, y_pred_proba)\n",
    "\n",
    "plt.plot(fpr,tpr,label=\"data 1, auc=\"+str(auc), color='k')\n",
    "plt.legend(loc=4)\n",
    "plt.show()"
   ]
  },
  {
   "cell_type": "markdown",
   "id": "suspended-cathedral",
   "metadata": {},
   "source": [
    "**ROC Curve**\n",
    "Receiver Operating Characteristic(ROC) curve is a plot of the true positive rate against the false positive rate. It shows the tradeoff between sensitivity and specificity.\n",
    "\n",
    "- the closer to left hand corner the better\n",
    "- should not be below red line\n",
    "\n",
    "**AUC** - area under the curve the bigger the area under the curve the better the model\n",
    "1 represents perfect classifier, and 0.5 represents a worthless classifier.<br/>\n",
    "AUC = 0.75\n",
    "\n",
    "**Conclusion**\n",
    "Our ROC and AUC are for the first iteration quite ok. But they can definitly be improved!\n",
    "For the next iteration the AUC should increase and the ROC should be getting closer to the left corner."
   ]
  },
  {
   "cell_type": "markdown",
   "id": "signal-million",
   "metadata": {},
   "source": [
    "### Modeling (X_i2)"
   ]
  },
  {
   "cell_type": "markdown",
   "id": "promising-network",
   "metadata": {},
   "source": [
    "We are going to try to improve our model by balancing our target feature using the SMOTE sampling technique. <br/>\n",
    "SMOTE (Synthetic Minority Oversampling Technique) is an over sampling technique based on nearest neighbors that adds new points between existing points.\n",
    "\n",
    "We will proceed as follows:\n",
    "- import smothe\n",
    "- define variable\n",
    "- recreate X and y using smote and resample over X an y\n",
    "- look at value counts\n",
    "- re do train test split\n",
    "- re do model\n",
    "- re do accuracy/confusion matrix/ROC/AUC\n",
    "- comparision iterations"
   ]
  },
  {
   "cell_type": "code",
   "execution_count": 66,
   "id": "ceramic-sewing",
   "metadata": {},
   "outputs": [],
   "source": [
    "#import smothe\n",
    "from imblearn import under_sampling, over_sampling\n",
    "from imblearn.over_sampling import SMOTE"
   ]
  },
  {
   "cell_type": "code",
   "execution_count": 67,
   "id": "necessary-dragon",
   "metadata": {},
   "outputs": [],
   "source": [
    "#define smote variable\n",
    "smote = SMOTE()"
   ]
  },
  {
   "cell_type": "code",
   "execution_count": 68,
   "id": "designing-library",
   "metadata": {},
   "outputs": [
    {
     "data": {
      "text/plain": [
       "0    16954\n",
       "1    16954\n",
       "Name: offer_accepted_Yes, dtype: int64"
      ]
     },
     "execution_count": 68,
     "metadata": {},
     "output_type": "execute_result"
    }
   ],
   "source": [
    "#recreate X and y\n",
    "X_i2, y_i2 = smote.fit_resample(X, y)\n",
    "y_i2.value_counts()"
   ]
  },
  {
   "cell_type": "markdown",
   "id": "latter-petite",
   "metadata": {},
   "source": [
    "#### Test & Train"
   ]
  },
  {
   "cell_type": "code",
   "execution_count": 69,
   "id": "amended-manual",
   "metadata": {},
   "outputs": [],
   "source": [
    "#redo train test split it2\n",
    "X_i2_train, X_i2_test, y_i2_train, y_i2_test =train_test_split(X_i2, y_i2, test_size= 0.6, random_state=40)"
   ]
  },
  {
   "cell_type": "code",
   "execution_count": 70,
   "id": "instrumental-player",
   "metadata": {},
   "outputs": [],
   "source": [
    "#apply model it2 \n",
    "classification_i2 = LogisticRegression(random_state=0, solver='lbfgs',max_iter=400,\n",
    "                  multi_class='ovr').fit(X_i2_train, y_i2_train)"
   ]
  },
  {
   "cell_type": "markdown",
   "id": "informative-harrison",
   "metadata": {},
   "source": [
    "#### Accuracy score"
   ]
  },
  {
   "cell_type": "code",
   "execution_count": 71,
   "id": "identical-budget",
   "metadata": {},
   "outputs": [
    {
     "data": {
      "text/plain": [
       "0.7020889653477513"
      ]
     },
     "execution_count": 71,
     "metadata": {},
     "output_type": "execute_result"
    }
   ],
   "source": [
    "#accuracy assessment it2\n",
    "predictions_i2 = classification_i2.predict(X_i2_test)\n",
    "accuracy_score(y_i2_test, predictions_i2)"
   ]
  },
  {
   "cell_type": "markdown",
   "id": "brave-terminology",
   "metadata": {},
   "source": [
    "**Comparision accuracy it1 and it2**\n",
    "\n",
    "accuracy it1 = 0.74<br/>\n",
    "accuracy it2 = 0.70<br/><br/>\n",
    "\n",
    "The accuracy of the model actually decreased from the first to the second iteration. This is unfortunate, but somehow expected as we are introducing bias with the implementation of the SMOTE technique."
   ]
  },
  {
   "cell_type": "markdown",
   "id": "sorted-ghost",
   "metadata": {},
   "source": [
    "#### Confusion matrix"
   ]
  },
  {
   "cell_type": "code",
   "execution_count": 72,
   "id": "naval-scheme",
   "metadata": {},
   "outputs": [
    {
     "data": {
      "text/plain": [
       "array([[6810, 3358],\n",
       "       [2703, 7474]])"
      ]
     },
     "execution_count": 72,
     "metadata": {},
     "output_type": "execute_result"
    }
   ],
   "source": [
    "#building new confusion matrix for it2\n",
    "cnf_matrix_i2 = confusion_matrix(y_i2_test, predictions_i2)\n",
    "cnf_matrix_i2"
   ]
  },
  {
   "cell_type": "code",
   "execution_count": 144,
   "id": "configured-study",
   "metadata": {},
   "outputs": [
    {
     "data": {
      "image/png": "[encoded data removed]",
      "text/plain": [
       "<Figure size 432x288 with 2 Axes>"
      ]
     },
     "metadata": {
      "needs_background": "light"
     },
     "output_type": "display_data"
    }
   ],
   "source": [
    "#visualizing confusion matrix for it2\n",
    "group_names = ['True Neg','False Pos','False Neg','True Pos']\n",
    "group_counts = ['{0:0.0f}'.format(value) for value in\n",
    "                cnf_matrix_i2.flatten()]\n",
    "group_percentages = ['{0:.2%}'.format(value) for value in\n",
    "                     cnf_matrix_i2.flatten()/np.sum(cnf_matrix_i2)]\n",
    "labels = [f'{v1}\\n{v2}\\n{v3}' for v1, v2, v3 in\n",
    "          zip(group_names,group_counts,group_percentages)]\n",
    "labels = np.asarray(labels).reshape(2,2)\n",
    "sns.heatmap(cnf_matrix_i2, annot=labels, fmt='', cmap='PuRd');"
   ]
  },
  {
   "cell_type": "markdown",
   "id": "external-hands",
   "metadata": {},
   "source": [
    "**Comparision confusion matrix it1 and it2**\n",
    "\n",
    "**confusion matrix it1**<br/>\n",
    "TN 6789 <br/>\n",
    "FN 401 <br/>\n",
    "FP 0 <br/>\n",
    "TP 0 <br/>\n",
    "\n",
    "TN + TP = 94,12%<br/>\n",
    "FP + FN =  5,88%<br/>\n",
    "\n",
    "**confusion matrix it2**<br/>\n",
    "TN 4568 <br/>\n",
    "FN 1822 <br/>\n",
    "FP 2140 <br/>\n",
    "TP 5034 <br/>\n",
    "\n",
    "TN + TP = 70,79%<br/>\n",
    "FP + FN = 29,21%<br/>\n",
    "\n",
    "The confusion matrix changed from iteration 1 to 2. The True values are now more evenly distributed between each other. Unfortunatly however the total percentage of the true values decreased by approx 1/4, which is not ideal.\n",
    "The false predicted values increased significantly."
   ]
  },
  {
   "cell_type": "markdown",
   "id": "cross-imaging",
   "metadata": {},
   "source": [
    "#### ROC"
   ]
  },
  {
   "cell_type": "code",
   "execution_count": 161,
   "id": "electronic-qualification",
   "metadata": {},
   "outputs": [
    {
     "data": {
      "image/png": "[encoded data removed]",
      "text/plain": [
       "<Figure size 432x288 with 1 Axes>"
      ]
     },
     "metadata": {
      "needs_background": "light"
     },
     "output_type": "display_data"
    }
   ],
   "source": [
    "#calculating and visualizing ROC and AUC for it2\n",
    "y_pred_proba_i2 = classification_i2.predict_proba(X_i2_test)[::,1]\n",
    "fpr_i2, tpr_i2, _ = metrics.roc_curve(y_i2_test,  y_pred_proba_i2)\n",
    "auc_i2 = metrics.roc_auc_score(y_i2_test, y_pred_proba_i2)\n",
    "\n",
    "plt.plot(fpr_i2,tpr_i2,label=\"data_i2, auc_i2=\"+str(auc_i2), color='k')\n",
    "plt.legend(loc=4)\n",
    "plt.show()"
   ]
  },
  {
   "cell_type": "markdown",
   "id": "cosmetic-better",
   "metadata": {},
   "source": [
    "**Comparision ROC & AUC it1 and it2**\n",
    "\n",
    "AUC it1 = 0.75<br/>\n",
    "AUC it2 = 0.76<br/><br/>\n",
    "\n",
    "The ROC and AUC of the model actually improved.\n",
    "The ROC is slidly closer to the upper left corner, which is an improvement."
   ]
  },
  {
   "cell_type": "markdown",
   "id": "certified-profile",
   "metadata": {},
   "source": [
    "#### Conclusion\n",
    "\n",
    "After looking at the metrics for evaluation of the model from the second iteration we can say that overall the accuracy decreased and the confusion matrix worsened but the ROC and AUC increased/improved.\n",
    "We still see this as an improvement in general although accuracy decreased.\n",
    "The next step will be another iteration in which we are aiming for a increased accuracy."
   ]
  },
  {
   "cell_type": "markdown",
   "id": "recorded-specific",
   "metadata": {},
   "source": [
    "### Modeling (X_i3)"
   ]
  },
  {
   "cell_type": "markdown",
   "id": "portuguese-maintenance",
   "metadata": {},
   "source": [
    "Our goal is to improve our model by\n",
    "- using the normalized & sampled data\n",
    "- dropping the average quarterly balances as they might seem irrelevant for our predictions"
   ]
  },
  {
   "cell_type": "markdown",
   "id": "spanish-walter",
   "metadata": {},
   "source": [
    "### Preparing the sampled data to be used in the following iterations"
   ]
  },
  {
   "cell_type": "code",
   "execution_count": 75,
   "id": "straight-computer",
   "metadata": {},
   "outputs": [
    {
     "data": {
      "text/plain": [
       "(33908, 33908)"
      ]
     },
     "execution_count": 75,
     "metadata": {},
     "output_type": "execute_result"
    }
   ],
   "source": [
    "#check if they have the same length\n",
    "len(X_i2), len(y_i2)"
   ]
  },
  {
   "cell_type": "code",
   "execution_count": 76,
   "id": "humanitarian-consumption",
   "metadata": {},
   "outputs": [
    {
     "data": {
      "text/html": [
       "<div>\n",
       "<style scoped>\n",
       "    .dataframe tbody tr th:only-of-type {\n",
       "        vertical-align: middle;\n",
       "    }\n",
       "\n",
       "    .dataframe tbody tr th {\n",
       "        vertical-align: top;\n",
       "    }\n",
       "\n",
       "    .dataframe thead th {\n",
       "        text-align: right;\n",
       "    }\n",
       "</style>\n",
       "<table border=\"1\" class=\"dataframe\">\n",
       "  <thead>\n",
       "    <tr style=\"text-align: right;\">\n",
       "      <th></th>\n",
       "      <th>0</th>\n",
       "      <th>1</th>\n",
       "      <th>2</th>\n",
       "      <th>3</th>\n",
       "      <th>4</th>\n",
       "      <th>5</th>\n",
       "      <th>6</th>\n",
       "      <th>7</th>\n",
       "      <th>8</th>\n",
       "      <th>9</th>\n",
       "      <th>10</th>\n",
       "      <th>11</th>\n",
       "      <th>12</th>\n",
       "      <th>13</th>\n",
       "      <th>14</th>\n",
       "      <th>15</th>\n",
       "      <th>16</th>\n",
       "      <th>17</th>\n",
       "    </tr>\n",
       "  </thead>\n",
       "  <tbody>\n",
       "    <tr>\n",
       "      <th>0</th>\n",
       "      <td>0.002394</td>\n",
       "      <td>0.004789</td>\n",
       "      <td>0.004789</td>\n",
       "      <td>0.011971</td>\n",
       "      <td>0.351961</td>\n",
       "      <td>0.093377</td>\n",
       "      <td>0.253795</td>\n",
       "      <td>0.186755</td>\n",
       "      <td>0.876311</td>\n",
       "      <td>0.0</td>\n",
       "      <td>0.0</td>\n",
       "      <td>0.0</td>\n",
       "      <td>0.0</td>\n",
       "      <td>1.0</td>\n",
       "      <td>0.0</td>\n",
       "      <td>0.0</td>\n",
       "      <td>1.0</td>\n",
       "      <td>1.0</td>\n",
       "    </tr>\n",
       "    <tr>\n",
       "      <th>1</th>\n",
       "      <td>0.003107</td>\n",
       "      <td>0.003107</td>\n",
       "      <td>0.001553</td>\n",
       "      <td>0.003107</td>\n",
       "      <td>0.428760</td>\n",
       "      <td>0.570127</td>\n",
       "      <td>0.546825</td>\n",
       "      <td>0.225254</td>\n",
       "      <td>0.375942</td>\n",
       "      <td>0.0</td>\n",
       "      <td>0.0</td>\n",
       "      <td>1.0</td>\n",
       "      <td>0.0</td>\n",
       "      <td>0.0</td>\n",
       "      <td>0.0</td>\n",
       "      <td>0.0</td>\n",
       "      <td>1.0</td>\n",
       "      <td>1.0</td>\n",
       "    </tr>\n",
       "    <tr>\n",
       "      <th>2</th>\n",
       "      <td>0.000686</td>\n",
       "      <td>0.000343</td>\n",
       "      <td>0.000343</td>\n",
       "      <td>0.001372</td>\n",
       "      <td>0.418079</td>\n",
       "      <td>0.541205</td>\n",
       "      <td>0.603626</td>\n",
       "      <td>0.383782</td>\n",
       "      <td>0.143704</td>\n",
       "      <td>0.0</td>\n",
       "      <td>0.0</td>\n",
       "      <td>0.0</td>\n",
       "      <td>0.0</td>\n",
       "      <td>1.0</td>\n",
       "      <td>0.0</td>\n",
       "      <td>0.0</td>\n",
       "      <td>0.0</td>\n",
       "      <td>0.0</td>\n",
       "    </tr>\n",
       "    <tr>\n",
       "      <th>3</th>\n",
       "      <td>0.000334</td>\n",
       "      <td>0.000667</td>\n",
       "      <td>0.000334</td>\n",
       "      <td>0.002002</td>\n",
       "      <td>0.404000</td>\n",
       "      <td>0.713922</td>\n",
       "      <td>0.452707</td>\n",
       "      <td>0.327604</td>\n",
       "      <td>0.121767</td>\n",
       "      <td>0.0</td>\n",
       "      <td>0.0</td>\n",
       "      <td>0.0</td>\n",
       "      <td>0.0</td>\n",
       "      <td>1.0</td>\n",
       "      <td>0.0</td>\n",
       "      <td>0.0</td>\n",
       "      <td>1.0</td>\n",
       "      <td>1.0</td>\n",
       "    </tr>\n",
       "    <tr>\n",
       "      <th>4</th>\n",
       "      <td>0.000369</td>\n",
       "      <td>0.001108</td>\n",
       "      <td>0.000369</td>\n",
       "      <td>0.001478</td>\n",
       "      <td>0.411601</td>\n",
       "      <td>0.682430</td>\n",
       "      <td>0.504341</td>\n",
       "      <td>0.277110</td>\n",
       "      <td>0.183632</td>\n",
       "      <td>0.0</td>\n",
       "      <td>0.0</td>\n",
       "      <td>0.0</td>\n",
       "      <td>0.0</td>\n",
       "      <td>1.0</td>\n",
       "      <td>0.0</td>\n",
       "      <td>0.0</td>\n",
       "      <td>0.0</td>\n",
       "      <td>0.0</td>\n",
       "    </tr>\n",
       "    <tr>\n",
       "      <th>...</th>\n",
       "      <td>...</td>\n",
       "      <td>...</td>\n",
       "      <td>...</td>\n",
       "      <td>...</td>\n",
       "      <td>...</td>\n",
       "      <td>...</td>\n",
       "      <td>...</td>\n",
       "      <td>...</td>\n",
       "      <td>...</td>\n",
       "      <td>...</td>\n",
       "      <td>...</td>\n",
       "      <td>...</td>\n",
       "      <td>...</td>\n",
       "      <td>...</td>\n",
       "      <td>...</td>\n",
       "      <td>...</td>\n",
       "      <td>...</td>\n",
       "      <td>...</td>\n",
       "    </tr>\n",
       "    <tr>\n",
       "      <th>33903</th>\n",
       "      <td>0.000631</td>\n",
       "      <td>0.000690</td>\n",
       "      <td>0.000404</td>\n",
       "      <td>0.000976</td>\n",
       "      <td>0.440335</td>\n",
       "      <td>0.533669</td>\n",
       "      <td>0.484805</td>\n",
       "      <td>0.423950</td>\n",
       "      <td>0.319490</td>\n",
       "      <td>0.0</td>\n",
       "      <td>1.0</td>\n",
       "      <td>0.0</td>\n",
       "      <td>0.0</td>\n",
       "      <td>0.0</td>\n",
       "      <td>0.0</td>\n",
       "      <td>1.0</td>\n",
       "      <td>0.0</td>\n",
       "      <td>1.0</td>\n",
       "    </tr>\n",
       "    <tr>\n",
       "      <th>33904</th>\n",
       "      <td>0.001283</td>\n",
       "      <td>0.003513</td>\n",
       "      <td>0.002566</td>\n",
       "      <td>0.003680</td>\n",
       "      <td>0.418563</td>\n",
       "      <td>0.589327</td>\n",
       "      <td>0.509460</td>\n",
       "      <td>0.332510</td>\n",
       "      <td>0.244071</td>\n",
       "      <td>0.0</td>\n",
       "      <td>0.0</td>\n",
       "      <td>0.0</td>\n",
       "      <td>0.0</td>\n",
       "      <td>1.0</td>\n",
       "      <td>0.0</td>\n",
       "      <td>1.0</td>\n",
       "      <td>0.0</td>\n",
       "      <td>0.0</td>\n",
       "    </tr>\n",
       "    <tr>\n",
       "      <th>33905</th>\n",
       "      <td>0.003045</td>\n",
       "      <td>0.001549</td>\n",
       "      <td>0.001523</td>\n",
       "      <td>0.006117</td>\n",
       "      <td>0.400240</td>\n",
       "      <td>0.232322</td>\n",
       "      <td>0.252656</td>\n",
       "      <td>0.773554</td>\n",
       "      <td>0.343924</td>\n",
       "      <td>0.0</td>\n",
       "      <td>0.0</td>\n",
       "      <td>0.0</td>\n",
       "      <td>1.0</td>\n",
       "      <td>0.0</td>\n",
       "      <td>0.0</td>\n",
       "      <td>0.0</td>\n",
       "      <td>0.0</td>\n",
       "      <td>1.0</td>\n",
       "    </tr>\n",
       "    <tr>\n",
       "      <th>33906</th>\n",
       "      <td>0.000324</td>\n",
       "      <td>0.000366</td>\n",
       "      <td>0.000606</td>\n",
       "      <td>0.001056</td>\n",
       "      <td>0.429170</td>\n",
       "      <td>0.262187</td>\n",
       "      <td>0.404194</td>\n",
       "      <td>0.623481</td>\n",
       "      <td>0.426817</td>\n",
       "      <td>0.0</td>\n",
       "      <td>1.0</td>\n",
       "      <td>0.0</td>\n",
       "      <td>0.0</td>\n",
       "      <td>1.0</td>\n",
       "      <td>0.0</td>\n",
       "      <td>0.0</td>\n",
       "      <td>0.0</td>\n",
       "      <td>1.0</td>\n",
       "    </tr>\n",
       "    <tr>\n",
       "      <th>33907</th>\n",
       "      <td>0.001392</td>\n",
       "      <td>0.001392</td>\n",
       "      <td>0.001392</td>\n",
       "      <td>0.003716</td>\n",
       "      <td>0.394867</td>\n",
       "      <td>0.600749</td>\n",
       "      <td>0.208206</td>\n",
       "      <td>0.583126</td>\n",
       "      <td>0.191331</td>\n",
       "      <td>0.0</td>\n",
       "      <td>1.0</td>\n",
       "      <td>1.0</td>\n",
       "      <td>0.0</td>\n",
       "      <td>0.0</td>\n",
       "      <td>0.0</td>\n",
       "      <td>1.0</td>\n",
       "      <td>0.0</td>\n",
       "      <td>0.0</td>\n",
       "    </tr>\n",
       "  </tbody>\n",
       "</table>\n",
       "<p>33908 rows × 18 columns</p>\n",
       "</div>"
      ],
      "text/plain": [
       "             0         1         2         3         4         5         6   \\\n",
       "0      0.002394  0.004789  0.004789  0.011971  0.351961  0.093377  0.253795   \n",
       "1      0.003107  0.003107  0.001553  0.003107  0.428760  0.570127  0.546825   \n",
       "2      0.000686  0.000343  0.000343  0.001372  0.418079  0.541205  0.603626   \n",
       "3      0.000334  0.000667  0.000334  0.002002  0.404000  0.713922  0.452707   \n",
       "4      0.000369  0.001108  0.000369  0.001478  0.411601  0.682430  0.504341   \n",
       "...         ...       ...       ...       ...       ...       ...       ...   \n",
       "33903  0.000631  0.000690  0.000404  0.000976  0.440335  0.533669  0.484805   \n",
       "33904  0.001283  0.003513  0.002566  0.003680  0.418563  0.589327  0.509460   \n",
       "33905  0.003045  0.001549  0.001523  0.006117  0.400240  0.232322  0.252656   \n",
       "33906  0.000324  0.000366  0.000606  0.001056  0.429170  0.262187  0.404194   \n",
       "33907  0.001392  0.001392  0.001392  0.003716  0.394867  0.600749  0.208206   \n",
       "\n",
       "             7         8    9    10   11   12   13   14   15   16   17  \n",
       "0      0.186755  0.876311  0.0  0.0  0.0  0.0  1.0  0.0  0.0  1.0  1.0  \n",
       "1      0.225254  0.375942  0.0  0.0  1.0  0.0  0.0  0.0  0.0  1.0  1.0  \n",
       "2      0.383782  0.143704  0.0  0.0  0.0  0.0  1.0  0.0  0.0  0.0  0.0  \n",
       "3      0.327604  0.121767  0.0  0.0  0.0  0.0  1.0  0.0  0.0  1.0  1.0  \n",
       "4      0.277110  0.183632  0.0  0.0  0.0  0.0  1.0  0.0  0.0  0.0  0.0  \n",
       "...         ...       ...  ...  ...  ...  ...  ...  ...  ...  ...  ...  \n",
       "33903  0.423950  0.319490  0.0  1.0  0.0  0.0  0.0  0.0  1.0  0.0  1.0  \n",
       "33904  0.332510  0.244071  0.0  0.0  0.0  0.0  1.0  0.0  1.0  0.0  0.0  \n",
       "33905  0.773554  0.343924  0.0  0.0  0.0  1.0  0.0  0.0  0.0  0.0  1.0  \n",
       "33906  0.623481  0.426817  0.0  1.0  0.0  0.0  1.0  0.0  0.0  0.0  1.0  \n",
       "33907  0.583126  0.191331  0.0  1.0  1.0  0.0  0.0  0.0  1.0  0.0  0.0  \n",
       "\n",
       "[33908 rows x 18 columns]"
      ]
     },
     "execution_count": 76,
     "metadata": {},
     "output_type": "execute_result"
    }
   ],
   "source": [
    "#assign sampled X to the new X\n",
    "X_i3 = pd.DataFrame(X_i2)\n",
    "X_i3"
   ]
  },
  {
   "cell_type": "code",
   "execution_count": 77,
   "id": "equal-hawaii",
   "metadata": {},
   "outputs": [],
   "source": [
    "# assign the columns to match \n",
    "X_i3.columns = X_cols.to_list() + cat_clean.columns.to_list()"
   ]
  },
  {
   "cell_type": "code",
   "execution_count": 78,
   "id": "imported-calvin",
   "metadata": {},
   "outputs": [
    {
     "data": {
      "text/html": [
       "<div>\n",
       "<style scoped>\n",
       "    .dataframe tbody tr th:only-of-type {\n",
       "        vertical-align: middle;\n",
       "    }\n",
       "\n",
       "    .dataframe tbody tr th {\n",
       "        vertical-align: top;\n",
       "    }\n",
       "\n",
       "    .dataframe thead th {\n",
       "        text-align: right;\n",
       "    }\n",
       "</style>\n",
       "<table border=\"1\" class=\"dataframe\">\n",
       "  <thead>\n",
       "    <tr style=\"text-align: right;\">\n",
       "      <th></th>\n",
       "      <th>offer_accepted_Yes</th>\n",
       "    </tr>\n",
       "  </thead>\n",
       "  <tbody>\n",
       "    <tr>\n",
       "      <th>0</th>\n",
       "      <td>0</td>\n",
       "    </tr>\n",
       "    <tr>\n",
       "      <th>1</th>\n",
       "      <td>0</td>\n",
       "    </tr>\n",
       "    <tr>\n",
       "      <th>2</th>\n",
       "      <td>0</td>\n",
       "    </tr>\n",
       "    <tr>\n",
       "      <th>3</th>\n",
       "      <td>0</td>\n",
       "    </tr>\n",
       "    <tr>\n",
       "      <th>4</th>\n",
       "      <td>0</td>\n",
       "    </tr>\n",
       "    <tr>\n",
       "      <th>...</th>\n",
       "      <td>...</td>\n",
       "    </tr>\n",
       "    <tr>\n",
       "      <th>33903</th>\n",
       "      <td>1</td>\n",
       "    </tr>\n",
       "    <tr>\n",
       "      <th>33904</th>\n",
       "      <td>1</td>\n",
       "    </tr>\n",
       "    <tr>\n",
       "      <th>33905</th>\n",
       "      <td>1</td>\n",
       "    </tr>\n",
       "    <tr>\n",
       "      <th>33906</th>\n",
       "      <td>1</td>\n",
       "    </tr>\n",
       "    <tr>\n",
       "      <th>33907</th>\n",
       "      <td>1</td>\n",
       "    </tr>\n",
       "  </tbody>\n",
       "</table>\n",
       "<p>33908 rows × 1 columns</p>\n",
       "</div>"
      ],
      "text/plain": [
       "       offer_accepted_Yes\n",
       "0                       0\n",
       "1                       0\n",
       "2                       0\n",
       "3                       0\n",
       "4                       0\n",
       "...                   ...\n",
       "33903                   1\n",
       "33904                   1\n",
       "33905                   1\n",
       "33906                   1\n",
       "33907                   1\n",
       "\n",
       "[33908 rows x 1 columns]"
      ]
     },
     "execution_count": 78,
     "metadata": {},
     "output_type": "execute_result"
    }
   ],
   "source": [
    "# create y_i3\n",
    "y_i3 = pd.DataFrame(y_i2)\n",
    "y_i3"
   ]
  },
  {
   "cell_type": "code",
   "execution_count": 79,
   "id": "tutorial-denmark",
   "metadata": {},
   "outputs": [],
   "source": [
    "# create dataframe of both numerical and categorical data\n",
    "data_i3 = pd.concat([X_i3,y_i3], axis=1)"
   ]
  },
  {
   "cell_type": "code",
   "execution_count": 80,
   "id": "greatest-pixel",
   "metadata": {},
   "outputs": [
    {
     "data": {
      "text/html": [
       "<div>\n",
       "<style scoped>\n",
       "    .dataframe tbody tr th:only-of-type {\n",
       "        vertical-align: middle;\n",
       "    }\n",
       "\n",
       "    .dataframe tbody tr th {\n",
       "        vertical-align: top;\n",
       "    }\n",
       "\n",
       "    .dataframe thead th {\n",
       "        text-align: right;\n",
       "    }\n",
       "</style>\n",
       "<table border=\"1\" class=\"dataframe\">\n",
       "  <thead>\n",
       "    <tr style=\"text-align: right;\">\n",
       "      <th></th>\n",
       "      <th>bank_accounts_open</th>\n",
       "      <th>credit_cards_held</th>\n",
       "      <th>homes_owned</th>\n",
       "      <th>household_size</th>\n",
       "      <th>avg_balance</th>\n",
       "      <th>q1_balance</th>\n",
       "      <th>q2_balance</th>\n",
       "      <th>q3_balance</th>\n",
       "      <th>q4_balance</th>\n",
       "      <th>reward_Cash Back</th>\n",
       "      <th>reward_Points</th>\n",
       "      <th>mailer_type_Postcard</th>\n",
       "      <th>income_level_Low</th>\n",
       "      <th>income_level_Medium</th>\n",
       "      <th>overdraft_protection_Yes</th>\n",
       "      <th>credit_rating_Low</th>\n",
       "      <th>credit_rating_Medium</th>\n",
       "      <th>own_home_Yes</th>\n",
       "      <th>offer_accepted_Yes</th>\n",
       "    </tr>\n",
       "  </thead>\n",
       "  <tbody>\n",
       "    <tr>\n",
       "      <th>0</th>\n",
       "      <td>0.002394</td>\n",
       "      <td>0.004789</td>\n",
       "      <td>0.004789</td>\n",
       "      <td>0.011971</td>\n",
       "      <td>0.351961</td>\n",
       "      <td>0.093377</td>\n",
       "      <td>0.253795</td>\n",
       "      <td>0.186755</td>\n",
       "      <td>0.876311</td>\n",
       "      <td>0.0</td>\n",
       "      <td>0.0</td>\n",
       "      <td>0.0</td>\n",
       "      <td>0.0</td>\n",
       "      <td>1.0</td>\n",
       "      <td>0.0</td>\n",
       "      <td>0.0</td>\n",
       "      <td>1.0</td>\n",
       "      <td>1.0</td>\n",
       "      <td>0</td>\n",
       "    </tr>\n",
       "    <tr>\n",
       "      <th>1</th>\n",
       "      <td>0.003107</td>\n",
       "      <td>0.003107</td>\n",
       "      <td>0.001553</td>\n",
       "      <td>0.003107</td>\n",
       "      <td>0.428760</td>\n",
       "      <td>0.570127</td>\n",
       "      <td>0.546825</td>\n",
       "      <td>0.225254</td>\n",
       "      <td>0.375942</td>\n",
       "      <td>0.0</td>\n",
       "      <td>0.0</td>\n",
       "      <td>1.0</td>\n",
       "      <td>0.0</td>\n",
       "      <td>0.0</td>\n",
       "      <td>0.0</td>\n",
       "      <td>0.0</td>\n",
       "      <td>1.0</td>\n",
       "      <td>1.0</td>\n",
       "      <td>0</td>\n",
       "    </tr>\n",
       "    <tr>\n",
       "      <th>2</th>\n",
       "      <td>0.000686</td>\n",
       "      <td>0.000343</td>\n",
       "      <td>0.000343</td>\n",
       "      <td>0.001372</td>\n",
       "      <td>0.418079</td>\n",
       "      <td>0.541205</td>\n",
       "      <td>0.603626</td>\n",
       "      <td>0.383782</td>\n",
       "      <td>0.143704</td>\n",
       "      <td>0.0</td>\n",
       "      <td>0.0</td>\n",
       "      <td>0.0</td>\n",
       "      <td>0.0</td>\n",
       "      <td>1.0</td>\n",
       "      <td>0.0</td>\n",
       "      <td>0.0</td>\n",
       "      <td>0.0</td>\n",
       "      <td>0.0</td>\n",
       "      <td>0</td>\n",
       "    </tr>\n",
       "    <tr>\n",
       "      <th>3</th>\n",
       "      <td>0.000334</td>\n",
       "      <td>0.000667</td>\n",
       "      <td>0.000334</td>\n",
       "      <td>0.002002</td>\n",
       "      <td>0.404000</td>\n",
       "      <td>0.713922</td>\n",
       "      <td>0.452707</td>\n",
       "      <td>0.327604</td>\n",
       "      <td>0.121767</td>\n",
       "      <td>0.0</td>\n",
       "      <td>0.0</td>\n",
       "      <td>0.0</td>\n",
       "      <td>0.0</td>\n",
       "      <td>1.0</td>\n",
       "      <td>0.0</td>\n",
       "      <td>0.0</td>\n",
       "      <td>1.0</td>\n",
       "      <td>1.0</td>\n",
       "      <td>0</td>\n",
       "    </tr>\n",
       "    <tr>\n",
       "      <th>4</th>\n",
       "      <td>0.000369</td>\n",
       "      <td>0.001108</td>\n",
       "      <td>0.000369</td>\n",
       "      <td>0.001478</td>\n",
       "      <td>0.411601</td>\n",
       "      <td>0.682430</td>\n",
       "      <td>0.504341</td>\n",
       "      <td>0.277110</td>\n",
       "      <td>0.183632</td>\n",
       "      <td>0.0</td>\n",
       "      <td>0.0</td>\n",
       "      <td>0.0</td>\n",
       "      <td>0.0</td>\n",
       "      <td>1.0</td>\n",
       "      <td>0.0</td>\n",
       "      <td>0.0</td>\n",
       "      <td>0.0</td>\n",
       "      <td>0.0</td>\n",
       "      <td>0</td>\n",
       "    </tr>\n",
       "  </tbody>\n",
       "</table>\n",
       "</div>"
      ],
      "text/plain": [
       "   bank_accounts_open  credit_cards_held  homes_owned  household_size  \\\n",
       "0            0.002394           0.004789     0.004789        0.011971   \n",
       "1            0.003107           0.003107     0.001553        0.003107   \n",
       "2            0.000686           0.000343     0.000343        0.001372   \n",
       "3            0.000334           0.000667     0.000334        0.002002   \n",
       "4            0.000369           0.001108     0.000369        0.001478   \n",
       "\n",
       "   avg_balance  q1_balance  q2_balance  q3_balance  q4_balance  \\\n",
       "0     0.351961    0.093377    0.253795    0.186755    0.876311   \n",
       "1     0.428760    0.570127    0.546825    0.225254    0.375942   \n",
       "2     0.418079    0.541205    0.603626    0.383782    0.143704   \n",
       "3     0.404000    0.713922    0.452707    0.327604    0.121767   \n",
       "4     0.411601    0.682430    0.504341    0.277110    0.183632   \n",
       "\n",
       "   reward_Cash Back  reward_Points  mailer_type_Postcard  income_level_Low  \\\n",
       "0               0.0            0.0                   0.0               0.0   \n",
       "1               0.0            0.0                   1.0               0.0   \n",
       "2               0.0            0.0                   0.0               0.0   \n",
       "3               0.0            0.0                   0.0               0.0   \n",
       "4               0.0            0.0                   0.0               0.0   \n",
       "\n",
       "   income_level_Medium  overdraft_protection_Yes  credit_rating_Low  \\\n",
       "0                  1.0                       0.0                0.0   \n",
       "1                  0.0                       0.0                0.0   \n",
       "2                  1.0                       0.0                0.0   \n",
       "3                  1.0                       0.0                0.0   \n",
       "4                  1.0                       0.0                0.0   \n",
       "\n",
       "   credit_rating_Medium  own_home_Yes  offer_accepted_Yes  \n",
       "0                   1.0           1.0                   0  \n",
       "1                   1.0           1.0                   0  \n",
       "2                   0.0           0.0                   0  \n",
       "3                   1.0           1.0                   0  \n",
       "4                   0.0           0.0                   0  "
      ]
     },
     "execution_count": 80,
     "metadata": {},
     "output_type": "execute_result"
    }
   ],
   "source": [
    "#test\n",
    "data_i3.head()"
   ]
  },
  {
   "cell_type": "markdown",
   "id": "premium-swaziland",
   "metadata": {},
   "source": [
    "### Modeling"
   ]
  },
  {
   "cell_type": "code",
   "execution_count": 81,
   "id": "growing-calcium",
   "metadata": {},
   "outputs": [
    {
     "data": {
      "text/plain": [
       "Index(['bank_accounts_open', 'credit_cards_held', 'homes_owned',\n",
       "       'household_size', 'avg_balance', 'q1_balance', 'q2_balance',\n",
       "       'q3_balance', 'q4_balance'],\n",
       "      dtype='object')"
      ]
     },
     "execution_count": 81,
     "metadata": {},
     "output_type": "execute_result"
    }
   ],
   "source": [
    "#check column names to drop\n",
    "data_num.columns"
   ]
  },
  {
   "cell_type": "code",
   "execution_count": 82,
   "id": "confidential-habitat",
   "metadata": {},
   "outputs": [],
   "source": [
    "# dropping quarter columns from the sampled dataframe \n",
    "data_i3_withoutq = data_i3.drop(['q1_balance', 'q2_balance',\n",
    "       'q3_balance', 'q4_balance'], axis=1)"
   ]
  },
  {
   "cell_type": "markdown",
   "id": "basic-christian",
   "metadata": {},
   "source": [
    "#### Test & Train"
   ]
  },
  {
   "cell_type": "code",
   "execution_count": 83,
   "id": "manufactured-twenty",
   "metadata": {},
   "outputs": [],
   "source": [
    "#we use X_i3 and y_i2 from sampled data\n",
    "\n",
    "#train test split - splitting X and y each into 2 data sets(train data and test data)\n",
    "X_i3_train, X_i3_test, y_i3_train, y_i3_test = train_test_split(X_i3, y_i2, test_size= 0.4, random_state=40)"
   ]
  },
  {
   "cell_type": "code",
   "execution_count": 84,
   "id": "about-burns",
   "metadata": {},
   "outputs": [
    {
     "data": {
      "text/plain": [
       "((20344, 18), (13564, 18), (20344,), (13564,))"
      ]
     },
     "execution_count": 84,
     "metadata": {},
     "output_type": "execute_result"
    }
   ],
   "source": [
    "#check shape\n",
    "X_i3_train.shape, X_i3_test.shape, y_i3_train.shape, y_i3_test.shape"
   ]
  },
  {
   "cell_type": "code",
   "execution_count": 85,
   "id": "laughing-architecture",
   "metadata": {},
   "outputs": [],
   "source": [
    "#model development\n",
    "#create a Logistic Regression classifier (classification) object using LogisticRegression() function\n",
    "#fit model on the train set using fit()\n",
    "classification_i3 = LogisticRegression(random_state=0, solver='lbfgs',max_iter=400,\n",
    "                  multi_class='ovr').fit(X_i3_train, y_i3_train)"
   ]
  },
  {
   "cell_type": "code",
   "execution_count": 86,
   "id": "arbitrary-valuation",
   "metadata": {},
   "outputs": [],
   "source": [
    "#perform prediction on the test set using predict()\n",
    "predictions_i3 = classification_i3.predict(X_i3_test)"
   ]
  },
  {
   "cell_type": "code",
   "execution_count": 87,
   "id": "democratic-stability",
   "metadata": {},
   "outputs": [
    {
     "data": {
      "text/plain": [
       "array([1, 0, 0, ..., 0, 1, 0], dtype=uint8)"
      ]
     },
     "execution_count": 87,
     "metadata": {},
     "output_type": "execute_result"
    }
   ],
   "source": [
    "#check predictions array\n",
    "predictions_i3"
   ]
  },
  {
   "cell_type": "markdown",
   "id": "surface-organ",
   "metadata": {},
   "source": [
    "#### Accuracy score"
   ]
  },
  {
   "cell_type": "code",
   "execution_count": 88,
   "id": "numeric-rebate",
   "metadata": {},
   "outputs": [
    {
     "data": {
      "text/plain": [
       "0.7020053081686818"
      ]
     },
     "execution_count": 88,
     "metadata": {},
     "output_type": "execute_result"
    }
   ],
   "source": [
    "#calculating accuracy score\n",
    "accuracy_score(y_i3_test, predictions_i3)"
   ]
  },
  {
   "cell_type": "markdown",
   "id": "massive-belief",
   "metadata": {},
   "source": [
    "**Comparision accuracy it1, it2 and it3**\n",
    "\n",
    "accuracy it1 = 0.94<br/>\n",
    "accuracy it2 = 0.70<br/>\n",
    "accuracy it3 = 0.69<br/>\n",
    "<br/>\n",
    "\n",
    "The accuracy of the model did not increase in the third iteration from the first and second iterations."
   ]
  },
  {
   "cell_type": "markdown",
   "id": "later-madonna",
   "metadata": {},
   "source": [
    "#### Confusion matrix"
   ]
  },
  {
   "cell_type": "code",
   "execution_count": 89,
   "id": "genuine-portable",
   "metadata": {},
   "outputs": [
    {
     "data": {
      "text/plain": [
       "array([[4552, 2201],\n",
       "       [1841, 4970]])"
      ]
     },
     "execution_count": 89,
     "metadata": {},
     "output_type": "execute_result"
    }
   ],
   "source": [
    "#defining the confusion matrix\n",
    "cnf_matrix_i3 = confusion_matrix(y_i3_test, predictions_i3)\n",
    "cnf_matrix_i3"
   ]
  },
  {
   "cell_type": "code",
   "execution_count": 145,
   "id": "organized-contamination",
   "metadata": {},
   "outputs": [
    {
     "data": {
      "image/png": "[encoded data removed]",
      "text/plain": [
       "<Figure size 432x288 with 2 Axes>"
      ]
     },
     "metadata": {
      "needs_background": "light"
     },
     "output_type": "display_data"
    }
   ],
   "source": [
    "#visualising confusion matrix\n",
    "group_names = ['True Neg','False Pos','False Neg','True Pos']\n",
    "group_counts = ['{0:0.0f}'.format(value) for value in\n",
    "                cnf_matrix_i3.flatten()]\n",
    "group_percentages = ['{0:.2%}'.format(value) for value in\n",
    "                     cnf_matrix_i3.flatten()/np.sum(cnf_matrix_i3)]\n",
    "labels = [f'{v1}\\n{v2}\\n{v3}' for v1, v2, v3 in\n",
    "          zip(group_names,group_counts,group_percentages)]\n",
    "labels = np.asarray(labels).reshape(2,2)\n",
    "sns.heatmap(cnf_matrix_i3, annot=labels, fmt='', cmap='PuRd');"
   ]
  },
  {
   "cell_type": "markdown",
   "id": "english-elite",
   "metadata": {},
   "source": [
    "**Comparision confusion matrix it1, it2 and it3**\n",
    "\n",
    "**confusion matrix it1**<br/>\n",
    "TN 6789 <br/>\n",
    "FN 401 <br/>\n",
    "FP 0 <br/>\n",
    "TP 0 <br/>\n",
    "\n",
    "TN + TP = 94,12%<br/>\n",
    "FP + FN =  5,88%<br/>\n",
    "\n",
    "**confusion matrix it2**<br/>\n",
    "TN 4568 <br/>\n",
    "FN 1822 <br/>\n",
    "FP 2140 <br/>\n",
    "TP 5034 <br/>\n",
    "\n",
    "TN + TP = 70,79%<br/>\n",
    "FP + FN = 29,21%<br/>\n",
    "\n",
    "**confusion matrix it3**<br/>\n",
    "TN 4599 <br/>\n",
    "FN 1877 <br/>\n",
    "FP 2154 <br/>\n",
    "TP 4934 <br/>\n",
    "\n",
    "TN + TP = 69,75%<br/>\n",
    "FP + FN = 30,25%<br/>\n",
    "\n",
    "The confusion matrix has changed, but it is very similar to the second iteration."
   ]
  },
  {
   "cell_type": "code",
   "execution_count": 160,
   "id": "incoming-spanish",
   "metadata": {},
   "outputs": [
    {
     "data": {
      "image/png": "[encoded data removed]",
      "text/plain": [
       "<Figure size 432x288 with 1 Axes>"
      ]
     },
     "metadata": {
      "needs_background": "light"
     },
     "output_type": "display_data"
    }
   ],
   "source": [
    "#calculating and visualizing ROC and AUC for it3\n",
    "y_pred_proba_i3 = classification_i3.predict_proba(X_i3_test)[::,1]\n",
    "fpr_i3, tpr_i3, _ = metrics.roc_curve(y_i3_test,  y_pred_proba_i3)\n",
    "auc_i3 = metrics.roc_auc_score(y_i3_test, y_pred_proba_i3)\n",
    "\n",
    "plt.plot(fpr_i3,tpr_i3,label=\"data_i3, auc_i3=\"+str(auc_i3), color='k')\n",
    "plt.legend(loc=4)\n",
    "plt.show()"
   ]
  },
  {
   "cell_type": "markdown",
   "id": "shaped-killer",
   "metadata": {},
   "source": [
    "**Comparision ROC & AUC it1, it2 and it3**\n",
    "\n",
    "AUC it1 = 0.94<br/>\n",
    "AUC it2 = 0.77<br/>\n",
    "AUC it3 = 0.76<br/>\n",
    "\n",
    "<br/>\n",
    "\n",
    "The ROC and AUC of the model did not improve unfortunately."
   ]
  },
  {
   "cell_type": "markdown",
   "id": "natural-emerald",
   "metadata": {},
   "source": [
    "#### Conclusion\n",
    "\n",
    "After looking at the metrics for evaluation of the model from the second iteration we can say that overall the accuracy did not change.\n",
    "The next step will be another iteration in which we are aiming for a increaded accuracy."
   ]
  },
  {
   "cell_type": "markdown",
   "id": "trained-onion",
   "metadata": {},
   "source": [
    "## Modeling (X_i4)"
   ]
  },
  {
   "cell_type": "markdown",
   "id": "soviet-conservation",
   "metadata": {},
   "source": [
    "Our idea here is that the following columns:\n",
    "- bank_accounts_open\n",
    "- credit_cards_held\n",
    "- household_size\n",
    "- homes owned\n",
    "\n",
    "have numerical values but they should really be categorical. Our goal is to turn them into categorical features and run the iteration to see how that improves our accuracy score.\n",
    "So we are modeling the 4th iteration on the original dataframe because in the iteration 2 & 3 we have normalized numerical data and sampled the df which we cannot easily undo."
   ]
  },
  {
   "cell_type": "markdown",
   "id": "multiple-madison",
   "metadata": {},
   "source": [
    "### Preparing the sampled data to be used in the following iterations"
   ]
  },
  {
   "cell_type": "code",
   "execution_count": 92,
   "id": "major-yukon",
   "metadata": {},
   "outputs": [],
   "source": [
    "# map the values to their new value in each column\n",
    "conversion_dict = {1: 'One', 2: 'Two',3: 'Three'}\n",
    "data['bank_accounts_open'] = data['bank_accounts_open'].replace(conversion_dict)"
   ]
  },
  {
   "cell_type": "code",
   "execution_count": 93,
   "id": "white-congo",
   "metadata": {},
   "outputs": [],
   "source": [
    "# map the values to their new value in each column\n",
    "conversion_dict = {1: 'One', 2: 'Two',3: 'Three', 4: 'Four'}\n",
    "data['credit_cards_held'] = data['credit_cards_held'].replace(conversion_dict)"
   ]
  },
  {
   "cell_type": "code",
   "execution_count": 94,
   "id": "aware-health",
   "metadata": {},
   "outputs": [],
   "source": [
    "# map the values to their new value in each column\n",
    "conversion_dict = {1: 'One', 2: 'Two',3: 'Three', 4: 'Four', 5: 'Five', \n",
    "                   6: 'Six', 7: 'Seven', 8: 'Eight', 9: 'Nine'}\n",
    "data['household_size'] = data['household_size'].replace(conversion_dict)"
   ]
  },
  {
   "cell_type": "code",
   "execution_count": 95,
   "id": "crude-strength",
   "metadata": {},
   "outputs": [],
   "source": [
    "# map the values to their new value in each column\n",
    "conversion_dict = {1: 'One', 2: 'Two',3: 'Three'}\n",
    "data['homes_owned'] = data['homes_owned'].replace(conversion_dict)"
   ]
  },
  {
   "cell_type": "code",
   "execution_count": 96,
   "id": "interim-nature",
   "metadata": {},
   "outputs": [],
   "source": [
    "data_numtocat = data"
   ]
  },
  {
   "cell_type": "code",
   "execution_count": 97,
   "id": "affiliated-nigeria",
   "metadata": {},
   "outputs": [
    {
     "data": {
      "text/plain": [
       "offer_accepted          object\n",
       "reward                  object\n",
       "mailer_type             object\n",
       "income_level            object\n",
       "bank_accounts_open      object\n",
       "overdraft_protection    object\n",
       "credit_rating           object\n",
       "credit_cards_held       object\n",
       "homes_owned             object\n",
       "household_size          object\n",
       "own_home                object\n",
       "avg_balance              int64\n",
       "q1_balance               int64\n",
       "q2_balance               int64\n",
       "q3_balance               int64\n",
       "q4_balance               int64\n",
       "dtype: object"
      ]
     },
     "execution_count": 97,
     "metadata": {},
     "output_type": "execute_result"
    }
   ],
   "source": [
    "#test \n",
    "data_numtocat.dtypes"
   ]
  },
  {
   "cell_type": "code",
   "execution_count": 98,
   "id": "duplicate-daisy",
   "metadata": {},
   "outputs": [
    {
     "data": {
      "text/html": [
       "<div>\n",
       "<style scoped>\n",
       "    .dataframe tbody tr th:only-of-type {\n",
       "        vertical-align: middle;\n",
       "    }\n",
       "\n",
       "    .dataframe tbody tr th {\n",
       "        vertical-align: top;\n",
       "    }\n",
       "\n",
       "    .dataframe thead th {\n",
       "        text-align: right;\n",
       "    }\n",
       "</style>\n",
       "<table border=\"1\" class=\"dataframe\">\n",
       "  <thead>\n",
       "    <tr style=\"text-align: right;\">\n",
       "      <th></th>\n",
       "      <th>avg_balance</th>\n",
       "      <th>q1_balance</th>\n",
       "      <th>q2_balance</th>\n",
       "      <th>q3_balance</th>\n",
       "      <th>q4_balance</th>\n",
       "    </tr>\n",
       "  </thead>\n",
       "  <tbody>\n",
       "    <tr>\n",
       "      <th>0</th>\n",
       "      <td>147</td>\n",
       "      <td>39</td>\n",
       "      <td>106</td>\n",
       "      <td>78</td>\n",
       "      <td>366</td>\n",
       "    </tr>\n",
       "    <tr>\n",
       "      <th>1</th>\n",
       "      <td>276</td>\n",
       "      <td>367</td>\n",
       "      <td>352</td>\n",
       "      <td>145</td>\n",
       "      <td>242</td>\n",
       "    </tr>\n",
       "    <tr>\n",
       "      <th>2</th>\n",
       "      <td>1219</td>\n",
       "      <td>1578</td>\n",
       "      <td>1760</td>\n",
       "      <td>1119</td>\n",
       "      <td>419</td>\n",
       "    </tr>\n",
       "    <tr>\n",
       "      <th>3</th>\n",
       "      <td>1211</td>\n",
       "      <td>2140</td>\n",
       "      <td>1357</td>\n",
       "      <td>982</td>\n",
       "      <td>365</td>\n",
       "    </tr>\n",
       "    <tr>\n",
       "      <th>4</th>\n",
       "      <td>1114</td>\n",
       "      <td>1847</td>\n",
       "      <td>1365</td>\n",
       "      <td>750</td>\n",
       "      <td>497</td>\n",
       "    </tr>\n",
       "  </tbody>\n",
       "</table>\n",
       "</div>"
      ],
      "text/plain": [
       "   avg_balance  q1_balance  q2_balance  q3_balance  q4_balance\n",
       "0          147          39         106          78         366\n",
       "1          276         367         352         145         242\n",
       "2         1219        1578        1760        1119         419\n",
       "3         1211        2140        1357         982         365\n",
       "4         1114        1847        1365         750         497"
      ]
     },
     "execution_count": 98,
     "metadata": {},
     "output_type": "execute_result"
    }
   ],
   "source": [
    "# split numerical \n",
    "data_num_2 = data_numtocat.select_dtypes(include=['number'])\n",
    "data_num_2.head()"
   ]
  },
  {
   "cell_type": "code",
   "execution_count": 99,
   "id": "curious-palestinian",
   "metadata": {},
   "outputs": [
    {
     "data": {
      "text/html": [
       "<div>\n",
       "<style scoped>\n",
       "    .dataframe tbody tr th:only-of-type {\n",
       "        vertical-align: middle;\n",
       "    }\n",
       "\n",
       "    .dataframe tbody tr th {\n",
       "        vertical-align: top;\n",
       "    }\n",
       "\n",
       "    .dataframe thead th {\n",
       "        text-align: right;\n",
       "    }\n",
       "</style>\n",
       "<table border=\"1\" class=\"dataframe\">\n",
       "  <thead>\n",
       "    <tr style=\"text-align: right;\">\n",
       "      <th></th>\n",
       "      <th>offer_accepted</th>\n",
       "      <th>reward</th>\n",
       "      <th>mailer_type</th>\n",
       "      <th>income_level</th>\n",
       "      <th>bank_accounts_open</th>\n",
       "      <th>overdraft_protection</th>\n",
       "      <th>credit_rating</th>\n",
       "      <th>credit_cards_held</th>\n",
       "      <th>homes_owned</th>\n",
       "      <th>household_size</th>\n",
       "      <th>own_home</th>\n",
       "    </tr>\n",
       "  </thead>\n",
       "  <tbody>\n",
       "    <tr>\n",
       "      <th>0</th>\n",
       "      <td>No</td>\n",
       "      <td>Air Miles</td>\n",
       "      <td>Letter</td>\n",
       "      <td>Medium</td>\n",
       "      <td>One</td>\n",
       "      <td>No</td>\n",
       "      <td>Medium</td>\n",
       "      <td>Two</td>\n",
       "      <td>Two</td>\n",
       "      <td>Five</td>\n",
       "      <td>Yes</td>\n",
       "    </tr>\n",
       "    <tr>\n",
       "      <th>1</th>\n",
       "      <td>No</td>\n",
       "      <td>Air Miles</td>\n",
       "      <td>Postcard</td>\n",
       "      <td>High</td>\n",
       "      <td>Two</td>\n",
       "      <td>No</td>\n",
       "      <td>Medium</td>\n",
       "      <td>Two</td>\n",
       "      <td>One</td>\n",
       "      <td>Two</td>\n",
       "      <td>Yes</td>\n",
       "    </tr>\n",
       "    <tr>\n",
       "      <th>2</th>\n",
       "      <td>No</td>\n",
       "      <td>Air Miles</td>\n",
       "      <td>Letter</td>\n",
       "      <td>Medium</td>\n",
       "      <td>Two</td>\n",
       "      <td>No</td>\n",
       "      <td>High</td>\n",
       "      <td>One</td>\n",
       "      <td>One</td>\n",
       "      <td>Four</td>\n",
       "      <td>No</td>\n",
       "    </tr>\n",
       "    <tr>\n",
       "      <th>3</th>\n",
       "      <td>No</td>\n",
       "      <td>Air Miles</td>\n",
       "      <td>Letter</td>\n",
       "      <td>Medium</td>\n",
       "      <td>One</td>\n",
       "      <td>No</td>\n",
       "      <td>Medium</td>\n",
       "      <td>Two</td>\n",
       "      <td>One</td>\n",
       "      <td>Six</td>\n",
       "      <td>Yes</td>\n",
       "    </tr>\n",
       "    <tr>\n",
       "      <th>4</th>\n",
       "      <td>No</td>\n",
       "      <td>Air Miles</td>\n",
       "      <td>Letter</td>\n",
       "      <td>Medium</td>\n",
       "      <td>One</td>\n",
       "      <td>No</td>\n",
       "      <td>High</td>\n",
       "      <td>Three</td>\n",
       "      <td>One</td>\n",
       "      <td>Four</td>\n",
       "      <td>No</td>\n",
       "    </tr>\n",
       "  </tbody>\n",
       "</table>\n",
       "</div>"
      ],
      "text/plain": [
       "  offer_accepted     reward mailer_type income_level bank_accounts_open  \\\n",
       "0             No  Air Miles      Letter       Medium                One   \n",
       "1             No  Air Miles    Postcard         High                Two   \n",
       "2             No  Air Miles      Letter       Medium                Two   \n",
       "3             No  Air Miles      Letter       Medium                One   \n",
       "4             No  Air Miles      Letter       Medium                One   \n",
       "\n",
       "  overdraft_protection credit_rating credit_cards_held homes_owned  \\\n",
       "0                   No        Medium               Two         Two   \n",
       "1                   No        Medium               Two         One   \n",
       "2                   No          High               One         One   \n",
       "3                   No        Medium               Two         One   \n",
       "4                   No          High             Three         One   \n",
       "\n",
       "  household_size own_home  \n",
       "0           Five      Yes  \n",
       "1            Two      Yes  \n",
       "2           Four       No  \n",
       "3            Six      Yes  \n",
       "4           Four       No  "
      ]
     },
     "execution_count": 99,
     "metadata": {},
     "output_type": "execute_result"
    }
   ],
   "source": [
    "# split categorical data into \n",
    "data_cat_2 = data_numtocat.select_dtypes(include=['object'])\n",
    "data_cat_2.head()"
   ]
  },
  {
   "cell_type": "code",
   "execution_count": 100,
   "id": "vietnamese-crazy",
   "metadata": {},
   "outputs": [],
   "source": [
    "# do the preprocessing steps again"
   ]
  },
  {
   "cell_type": "code",
   "execution_count": 146,
   "id": "modular-resolution",
   "metadata": {},
   "outputs": [
    {
     "data": {
      "image/png": "[encoded data removed]",
      "text/plain": [
       "<Figure size 1296x720 with 2 Axes>"
      ]
     },
     "metadata": {
      "needs_background": "light"
     },
     "output_type": "display_data"
    }
   ],
   "source": [
    "#correlation for numerial columns\n",
    "corr_matrix = data_num_2.corr()\n",
    "fig, ax = plt.subplots(figsize = (18, 10))\n",
    "sns.heatmap(corr_matrix, cmap ='PuRd', center = 0, annot=True);"
   ]
  },
  {
   "cell_type": "markdown",
   "id": "interracial-brunei",
   "metadata": {},
   "source": [
    "The correlation matrix is very similar to the first one we had, just without the false numeric features."
   ]
  },
  {
   "cell_type": "markdown",
   "id": "chubby-blanket",
   "metadata": {},
   "source": [
    "#### Normalizer & Encoding"
   ]
  },
  {
   "cell_type": "code",
   "execution_count": 102,
   "id": "looking-injection",
   "metadata": {},
   "outputs": [],
   "source": [
    "#normalizer\n",
    "import numpy as np\n",
    "from sklearn.preprocessing import Normalizer\n",
    "X_i4 = data_num_2"
   ]
  },
  {
   "cell_type": "code",
   "execution_count": 103,
   "id": "interracial-thesaurus",
   "metadata": {},
   "outputs": [],
   "source": [
    "#normalize and transform\n",
    "transformer = Normalizer().fit(X_i4)\n",
    "x_normalized_i4 = transformer.transform(X_i4)"
   ]
  },
  {
   "cell_type": "code",
   "execution_count": 104,
   "id": "collectible-costs",
   "metadata": {},
   "outputs": [],
   "source": [
    "#concat variables into a df\n",
    "X_i4 = pd.DataFrame(x_normalized_i4, columns=X_i4.columns)"
   ]
  },
  {
   "cell_type": "code",
   "execution_count": 105,
   "id": "veterinary-avenue",
   "metadata": {},
   "outputs": [
    {
     "data": {
      "text/plain": [
       "Index(['offer_accepted', 'reward', 'mailer_type', 'income_level',\n",
       "       'bank_accounts_open', 'overdraft_protection', 'credit_rating',\n",
       "       'credit_cards_held', 'homes_owned', 'household_size', 'own_home'],\n",
       "      dtype='object')"
      ]
     },
     "execution_count": 105,
     "metadata": {},
     "output_type": "execute_result"
    }
   ],
   "source": [
    "#check columns to copy to cat_2\n",
    "data_cat_2.columns"
   ]
  },
  {
   "cell_type": "code",
   "execution_count": 106,
   "id": "controlling-amount",
   "metadata": {},
   "outputs": [],
   "source": [
    "#encoding categorical features\n",
    "cat_2 = pd.get_dummies(data_cat_2, columns=['offer_accepted', 'reward', 'mailer_type', 'income_level',\n",
    "       'bank_accounts_open', 'overdraft_protection', 'credit_rating',\n",
    "       'credit_cards_held', 'homes_owned', 'household_size', 'own_home'], drop_first = True)"
   ]
  },
  {
   "cell_type": "code",
   "execution_count": 107,
   "id": "acting-buyer",
   "metadata": {},
   "outputs": [
    {
     "data": {
      "text/html": [
       "<div>\n",
       "<style scoped>\n",
       "    .dataframe tbody tr th:only-of-type {\n",
       "        vertical-align: middle;\n",
       "    }\n",
       "\n",
       "    .dataframe tbody tr th {\n",
       "        vertical-align: top;\n",
       "    }\n",
       "\n",
       "    .dataframe thead th {\n",
       "        text-align: right;\n",
       "    }\n",
       "</style>\n",
       "<table border=\"1\" class=\"dataframe\">\n",
       "  <thead>\n",
       "    <tr style=\"text-align: right;\">\n",
       "      <th></th>\n",
       "      <th>offer_accepted_Yes</th>\n",
       "      <th>reward_Cash Back</th>\n",
       "      <th>reward_Points</th>\n",
       "      <th>mailer_type_Postcard</th>\n",
       "      <th>income_level_Low</th>\n",
       "      <th>income_level_Medium</th>\n",
       "      <th>bank_accounts_open_Three</th>\n",
       "      <th>bank_accounts_open_Two</th>\n",
       "      <th>overdraft_protection_Yes</th>\n",
       "      <th>credit_rating_Low</th>\n",
       "      <th>...</th>\n",
       "      <th>homes_owned_Three</th>\n",
       "      <th>homes_owned_Two</th>\n",
       "      <th>household_size_Five</th>\n",
       "      <th>household_size_Four</th>\n",
       "      <th>household_size_Nine</th>\n",
       "      <th>household_size_One</th>\n",
       "      <th>household_size_Six</th>\n",
       "      <th>household_size_Three</th>\n",
       "      <th>household_size_Two</th>\n",
       "      <th>own_home_Yes</th>\n",
       "    </tr>\n",
       "  </thead>\n",
       "  <tbody>\n",
       "    <tr>\n",
       "      <th>0</th>\n",
       "      <td>0</td>\n",
       "      <td>0</td>\n",
       "      <td>0</td>\n",
       "      <td>0</td>\n",
       "      <td>0</td>\n",
       "      <td>1</td>\n",
       "      <td>0</td>\n",
       "      <td>0</td>\n",
       "      <td>0</td>\n",
       "      <td>0</td>\n",
       "      <td>...</td>\n",
       "      <td>0</td>\n",
       "      <td>1</td>\n",
       "      <td>1</td>\n",
       "      <td>0</td>\n",
       "      <td>0</td>\n",
       "      <td>0</td>\n",
       "      <td>0</td>\n",
       "      <td>0</td>\n",
       "      <td>0</td>\n",
       "      <td>1</td>\n",
       "    </tr>\n",
       "    <tr>\n",
       "      <th>1</th>\n",
       "      <td>0</td>\n",
       "      <td>0</td>\n",
       "      <td>0</td>\n",
       "      <td>1</td>\n",
       "      <td>0</td>\n",
       "      <td>0</td>\n",
       "      <td>0</td>\n",
       "      <td>1</td>\n",
       "      <td>0</td>\n",
       "      <td>0</td>\n",
       "      <td>...</td>\n",
       "      <td>0</td>\n",
       "      <td>0</td>\n",
       "      <td>0</td>\n",
       "      <td>0</td>\n",
       "      <td>0</td>\n",
       "      <td>0</td>\n",
       "      <td>0</td>\n",
       "      <td>0</td>\n",
       "      <td>1</td>\n",
       "      <td>1</td>\n",
       "    </tr>\n",
       "    <tr>\n",
       "      <th>2</th>\n",
       "      <td>0</td>\n",
       "      <td>0</td>\n",
       "      <td>0</td>\n",
       "      <td>0</td>\n",
       "      <td>0</td>\n",
       "      <td>1</td>\n",
       "      <td>0</td>\n",
       "      <td>1</td>\n",
       "      <td>0</td>\n",
       "      <td>0</td>\n",
       "      <td>...</td>\n",
       "      <td>0</td>\n",
       "      <td>0</td>\n",
       "      <td>0</td>\n",
       "      <td>1</td>\n",
       "      <td>0</td>\n",
       "      <td>0</td>\n",
       "      <td>0</td>\n",
       "      <td>0</td>\n",
       "      <td>0</td>\n",
       "      <td>0</td>\n",
       "    </tr>\n",
       "    <tr>\n",
       "      <th>3</th>\n",
       "      <td>0</td>\n",
       "      <td>0</td>\n",
       "      <td>0</td>\n",
       "      <td>0</td>\n",
       "      <td>0</td>\n",
       "      <td>1</td>\n",
       "      <td>0</td>\n",
       "      <td>0</td>\n",
       "      <td>0</td>\n",
       "      <td>0</td>\n",
       "      <td>...</td>\n",
       "      <td>0</td>\n",
       "      <td>0</td>\n",
       "      <td>0</td>\n",
       "      <td>0</td>\n",
       "      <td>0</td>\n",
       "      <td>0</td>\n",
       "      <td>1</td>\n",
       "      <td>0</td>\n",
       "      <td>0</td>\n",
       "      <td>1</td>\n",
       "    </tr>\n",
       "    <tr>\n",
       "      <th>4</th>\n",
       "      <td>0</td>\n",
       "      <td>0</td>\n",
       "      <td>0</td>\n",
       "      <td>0</td>\n",
       "      <td>0</td>\n",
       "      <td>1</td>\n",
       "      <td>0</td>\n",
       "      <td>0</td>\n",
       "      <td>0</td>\n",
       "      <td>0</td>\n",
       "      <td>...</td>\n",
       "      <td>0</td>\n",
       "      <td>0</td>\n",
       "      <td>0</td>\n",
       "      <td>1</td>\n",
       "      <td>0</td>\n",
       "      <td>0</td>\n",
       "      <td>0</td>\n",
       "      <td>0</td>\n",
       "      <td>0</td>\n",
       "      <td>0</td>\n",
       "    </tr>\n",
       "    <tr>\n",
       "      <th>...</th>\n",
       "      <td>...</td>\n",
       "      <td>...</td>\n",
       "      <td>...</td>\n",
       "      <td>...</td>\n",
       "      <td>...</td>\n",
       "      <td>...</td>\n",
       "      <td>...</td>\n",
       "      <td>...</td>\n",
       "      <td>...</td>\n",
       "      <td>...</td>\n",
       "      <td>...</td>\n",
       "      <td>...</td>\n",
       "      <td>...</td>\n",
       "      <td>...</td>\n",
       "      <td>...</td>\n",
       "      <td>...</td>\n",
       "      <td>...</td>\n",
       "      <td>...</td>\n",
       "      <td>...</td>\n",
       "      <td>...</td>\n",
       "      <td>...</td>\n",
       "    </tr>\n",
       "    <tr>\n",
       "      <th>17994</th>\n",
       "      <td>0</td>\n",
       "      <td>1</td>\n",
       "      <td>0</td>\n",
       "      <td>0</td>\n",
       "      <td>0</td>\n",
       "      <td>0</td>\n",
       "      <td>0</td>\n",
       "      <td>0</td>\n",
       "      <td>0</td>\n",
       "      <td>1</td>\n",
       "      <td>...</td>\n",
       "      <td>0</td>\n",
       "      <td>0</td>\n",
       "      <td>1</td>\n",
       "      <td>0</td>\n",
       "      <td>0</td>\n",
       "      <td>0</td>\n",
       "      <td>0</td>\n",
       "      <td>0</td>\n",
       "      <td>0</td>\n",
       "      <td>1</td>\n",
       "    </tr>\n",
       "    <tr>\n",
       "      <th>17995</th>\n",
       "      <td>0</td>\n",
       "      <td>1</td>\n",
       "      <td>0</td>\n",
       "      <td>0</td>\n",
       "      <td>0</td>\n",
       "      <td>0</td>\n",
       "      <td>0</td>\n",
       "      <td>0</td>\n",
       "      <td>0</td>\n",
       "      <td>1</td>\n",
       "      <td>...</td>\n",
       "      <td>0</td>\n",
       "      <td>0</td>\n",
       "      <td>0</td>\n",
       "      <td>0</td>\n",
       "      <td>0</td>\n",
       "      <td>0</td>\n",
       "      <td>0</td>\n",
       "      <td>1</td>\n",
       "      <td>0</td>\n",
       "      <td>1</td>\n",
       "    </tr>\n",
       "    <tr>\n",
       "      <th>17996</th>\n",
       "      <td>0</td>\n",
       "      <td>1</td>\n",
       "      <td>0</td>\n",
       "      <td>0</td>\n",
       "      <td>0</td>\n",
       "      <td>0</td>\n",
       "      <td>0</td>\n",
       "      <td>0</td>\n",
       "      <td>0</td>\n",
       "      <td>1</td>\n",
       "      <td>...</td>\n",
       "      <td>0</td>\n",
       "      <td>0</td>\n",
       "      <td>0</td>\n",
       "      <td>1</td>\n",
       "      <td>0</td>\n",
       "      <td>0</td>\n",
       "      <td>0</td>\n",
       "      <td>0</td>\n",
       "      <td>0</td>\n",
       "      <td>0</td>\n",
       "    </tr>\n",
       "    <tr>\n",
       "      <th>17997</th>\n",
       "      <td>0</td>\n",
       "      <td>1</td>\n",
       "      <td>0</td>\n",
       "      <td>0</td>\n",
       "      <td>0</td>\n",
       "      <td>1</td>\n",
       "      <td>0</td>\n",
       "      <td>0</td>\n",
       "      <td>0</td>\n",
       "      <td>0</td>\n",
       "      <td>...</td>\n",
       "      <td>0</td>\n",
       "      <td>1</td>\n",
       "      <td>0</td>\n",
       "      <td>0</td>\n",
       "      <td>0</td>\n",
       "      <td>0</td>\n",
       "      <td>0</td>\n",
       "      <td>0</td>\n",
       "      <td>1</td>\n",
       "      <td>1</td>\n",
       "    </tr>\n",
       "    <tr>\n",
       "      <th>17998</th>\n",
       "      <td>0</td>\n",
       "      <td>1</td>\n",
       "      <td>0</td>\n",
       "      <td>0</td>\n",
       "      <td>1</td>\n",
       "      <td>0</td>\n",
       "      <td>0</td>\n",
       "      <td>1</td>\n",
       "      <td>0</td>\n",
       "      <td>0</td>\n",
       "      <td>...</td>\n",
       "      <td>0</td>\n",
       "      <td>0</td>\n",
       "      <td>0</td>\n",
       "      <td>0</td>\n",
       "      <td>0</td>\n",
       "      <td>0</td>\n",
       "      <td>0</td>\n",
       "      <td>1</td>\n",
       "      <td>0</td>\n",
       "      <td>0</td>\n",
       "    </tr>\n",
       "  </tbody>\n",
       "</table>\n",
       "<p>17975 rows × 24 columns</p>\n",
       "</div>"
      ],
      "text/plain": [
       "       offer_accepted_Yes  reward_Cash Back  reward_Points  \\\n",
       "0                       0                 0              0   \n",
       "1                       0                 0              0   \n",
       "2                       0                 0              0   \n",
       "3                       0                 0              0   \n",
       "4                       0                 0              0   \n",
       "...                   ...               ...            ...   \n",
       "17994                   0                 1              0   \n",
       "17995                   0                 1              0   \n",
       "17996                   0                 1              0   \n",
       "17997                   0                 1              0   \n",
       "17998                   0                 1              0   \n",
       "\n",
       "       mailer_type_Postcard  income_level_Low  income_level_Medium  \\\n",
       "0                         0                 0                    1   \n",
       "1                         1                 0                    0   \n",
       "2                         0                 0                    1   \n",
       "3                         0                 0                    1   \n",
       "4                         0                 0                    1   \n",
       "...                     ...               ...                  ...   \n",
       "17994                     0                 0                    0   \n",
       "17995                     0                 0                    0   \n",
       "17996                     0                 0                    0   \n",
       "17997                     0                 0                    1   \n",
       "17998                     0                 1                    0   \n",
       "\n",
       "       bank_accounts_open_Three  bank_accounts_open_Two  \\\n",
       "0                             0                       0   \n",
       "1                             0                       1   \n",
       "2                             0                       1   \n",
       "3                             0                       0   \n",
       "4                             0                       0   \n",
       "...                         ...                     ...   \n",
       "17994                         0                       0   \n",
       "17995                         0                       0   \n",
       "17996                         0                       0   \n",
       "17997                         0                       0   \n",
       "17998                         0                       1   \n",
       "\n",
       "       overdraft_protection_Yes  credit_rating_Low  ...  homes_owned_Three  \\\n",
       "0                             0                  0  ...                  0   \n",
       "1                             0                  0  ...                  0   \n",
       "2                             0                  0  ...                  0   \n",
       "3                             0                  0  ...                  0   \n",
       "4                             0                  0  ...                  0   \n",
       "...                         ...                ...  ...                ...   \n",
       "17994                         0                  1  ...                  0   \n",
       "17995                         0                  1  ...                  0   \n",
       "17996                         0                  1  ...                  0   \n",
       "17997                         0                  0  ...                  0   \n",
       "17998                         0                  0  ...                  0   \n",
       "\n",
       "       homes_owned_Two  household_size_Five  household_size_Four  \\\n",
       "0                    1                    1                    0   \n",
       "1                    0                    0                    0   \n",
       "2                    0                    0                    1   \n",
       "3                    0                    0                    0   \n",
       "4                    0                    0                    1   \n",
       "...                ...                  ...                  ...   \n",
       "17994                0                    1                    0   \n",
       "17995                0                    0                    0   \n",
       "17996                0                    0                    1   \n",
       "17997                1                    0                    0   \n",
       "17998                0                    0                    0   \n",
       "\n",
       "       household_size_Nine  household_size_One  household_size_Six  \\\n",
       "0                        0                   0                   0   \n",
       "1                        0                   0                   0   \n",
       "2                        0                   0                   0   \n",
       "3                        0                   0                   1   \n",
       "4                        0                   0                   0   \n",
       "...                    ...                 ...                 ...   \n",
       "17994                    0                   0                   0   \n",
       "17995                    0                   0                   0   \n",
       "17996                    0                   0                   0   \n",
       "17997                    0                   0                   0   \n",
       "17998                    0                   0                   0   \n",
       "\n",
       "       household_size_Three  household_size_Two  own_home_Yes  \n",
       "0                         0                   0             1  \n",
       "1                         0                   1             1  \n",
       "2                         0                   0             0  \n",
       "3                         0                   0             1  \n",
       "4                         0                   0             0  \n",
       "...                     ...                 ...           ...  \n",
       "17994                     0                   0             1  \n",
       "17995                     1                   0             1  \n",
       "17996                     0                   0             0  \n",
       "17997                     0                   1             1  \n",
       "17998                     1                   0             0  \n",
       "\n",
       "[17975 rows x 24 columns]"
      ]
     },
     "execution_count": 107,
     "metadata": {},
     "output_type": "execute_result"
    }
   ],
   "source": [
    "#test\n",
    "cat_2"
   ]
  },
  {
   "cell_type": "markdown",
   "id": "personalized-lawrence",
   "metadata": {},
   "source": [
    "**Spliting off depended variable (Label)**\n",
    "\n",
    "**'offer_accepted_Yes'**\n",
    "because we want to predict if the customer accepts the offer<br/><br/>\n",
    "offer accepted = YES = 1<br/>\n",
    "offer not accepted = NO = 0<br/>"
   ]
  },
  {
   "cell_type": "code",
   "execution_count": 108,
   "id": "ideal-style",
   "metadata": {},
   "outputs": [],
   "source": [
    "# dropping offer_accepted_Yes column as that's what we wanna predict\n",
    "cat_clean_2 = cat_2.drop(['offer_accepted_Yes'], axis=1)"
   ]
  },
  {
   "cell_type": "code",
   "execution_count": 109,
   "id": "manual-gamma",
   "metadata": {},
   "outputs": [],
   "source": [
    "#test\n",
    "y_i4 = cat_2['offer_accepted_Yes']"
   ]
  },
  {
   "cell_type": "code",
   "execution_count": 110,
   "id": "foster-milan",
   "metadata": {},
   "outputs": [],
   "source": [
    "# bring the numerical data (scaled)in with the categorical\n",
    "X_i4 = np.concatenate((x_normalized_i4, cat_clean_2),axis=1)"
   ]
  },
  {
   "cell_type": "markdown",
   "id": "digital-magazine",
   "metadata": {},
   "source": [
    "### Modeling"
   ]
  },
  {
   "cell_type": "markdown",
   "id": "stopped-whole",
   "metadata": {},
   "source": [
    "#### Test & Train"
   ]
  },
  {
   "cell_type": "code",
   "execution_count": 111,
   "id": "material-theme",
   "metadata": {},
   "outputs": [],
   "source": [
    "#train test split - splitting X and y each into 2 data sets(train data and test data)\n",
    "X_i4_train, X_i4_test, y_i4_train, y_i4_test = train_test_split(X_i4, y_i4, test_size= 0.4, random_state=40)"
   ]
  },
  {
   "cell_type": "code",
   "execution_count": 112,
   "id": "aging-eclipse",
   "metadata": {},
   "outputs": [],
   "source": [
    "#model development\n",
    "#create a Logistic Regression classifier (classification) object using LogisticRegression() function\n",
    "#fit model on the train set using fit()\n",
    "classification_i4 = LogisticRegression(random_state=0, solver='lbfgs',max_iter=400,\n",
    "                  multi_class='ovr').fit(X_i4_train, y_i4_train)"
   ]
  },
  {
   "cell_type": "code",
   "execution_count": 113,
   "id": "sweet-liability",
   "metadata": {},
   "outputs": [],
   "source": [
    "#perform prediction on the test set using predict()\n",
    "predictions_i4 = classification_i4.predict(X_i4_test)"
   ]
  },
  {
   "cell_type": "code",
   "execution_count": 114,
   "id": "valuable-antarctica",
   "metadata": {},
   "outputs": [
    {
     "data": {
      "text/plain": [
       "array([0, 0, 0, ..., 0, 0, 0], dtype=uint8)"
      ]
     },
     "execution_count": 114,
     "metadata": {},
     "output_type": "execute_result"
    }
   ],
   "source": [
    "#test\n",
    "predictions_i4"
   ]
  },
  {
   "cell_type": "markdown",
   "id": "parliamentary-importance",
   "metadata": {},
   "source": [
    "#### Accuracy score"
   ]
  },
  {
   "cell_type": "code",
   "execution_count": 115,
   "id": "driving-trance",
   "metadata": {},
   "outputs": [
    {
     "data": {
      "text/plain": [
       "0.9442280945757997"
      ]
     },
     "execution_count": 115,
     "metadata": {},
     "output_type": "execute_result"
    }
   ],
   "source": [
    "#calculate accuracy score\n",
    "accuracy_score(y_i4_test, predictions_i4)"
   ]
  },
  {
   "cell_type": "markdown",
   "id": "greek-favor",
   "metadata": {},
   "source": [
    "We have an accurcy score of 0.94, which is the same as the first iteration.\n",
    "We assume turning false numerical features into categorical did not change the model, our conclusions are included in the comments for the confusion matrix.\n"
   ]
  },
  {
   "cell_type": "markdown",
   "id": "tough-stake",
   "metadata": {},
   "source": [
    "#### Consfusion matrix"
   ]
  },
  {
   "cell_type": "code",
   "execution_count": 116,
   "id": "harmful-yukon",
   "metadata": {},
   "outputs": [
    {
     "data": {
      "text/plain": [
       "array([[6789,    0],\n",
       "       [ 401,    0]])"
      ]
     },
     "execution_count": 116,
     "metadata": {},
     "output_type": "execute_result"
    }
   ],
   "source": [
    "#calculate confusion matrix\n",
    "cnf_matrix_i4 = confusion_matrix(y_i4_test, predictions_i4)\n",
    "cnf_matrix_i4"
   ]
  },
  {
   "cell_type": "code",
   "execution_count": 147,
   "id": "sexual-barbados",
   "metadata": {},
   "outputs": [
    {
     "data": {
      "image/png": "[encoded data removed]",
      "text/plain": [
       "<Figure size 432x288 with 2 Axes>"
      ]
     },
     "metadata": {
      "needs_background": "light"
     },
     "output_type": "display_data"
    }
   ],
   "source": [
    "#visualise confusion matrix\n",
    "group_names = ['True Neg','False Pos','False Neg','True Pos']\n",
    "group_counts = ['{0:0.0f}'.format(value) for value in\n",
    "                cnf_matrix_i4.flatten()]\n",
    "group_percentages = ['{0:.2%}'.format(value) for value in\n",
    "                     cnf_matrix_i4.flatten()/np.sum(cnf_matrix_i4)]\n",
    "labels = [f'{v1}\\n{v2}\\n{v3}' for v1, v2, v3 in\n",
    "          zip(group_names,group_counts,group_percentages)]\n",
    "labels = np.asarray(labels).reshape(2,2)\n",
    "sns.heatmap(cnf_matrix, annot=labels, fmt='', cmap='PuRd');"
   ]
  },
  {
   "cell_type": "markdown",
   "id": "received-accent",
   "metadata": {},
   "source": [
    "**First having a look again which is the dependend variable (here its offer accepted Yes/No)**<br/>\n",
    "0 = No - does not accept offer<br/>\n",
    "1 = Yes - accepts offer<br/><br/>\n",
    "\n",
    "**Explanations**<br/>\n",
    "TN(True negative,0/0) - model predict its No and it is No for 6789 values<br/>\n",
    "FN(False negative,1/0) - model predict its Yes, but its No for 401 values<br/>\n",
    "FP(False positive,0/1) - model predict its No, but its Yes for 0 values<br/>\n",
    "TP(True positive,1/1) - model predict its Yes and it is Yes for 0 values<br/><br/>\n",
    "\n",
    "**Conclusion**<br/>\n",
    "**FP** - It great, as its 0%.<br/>\n",
    "**FN** - 5% is not ideal, but still quiet ok.<br/>\n",
    "**TN** - This is great, 94% are correctly predicted.<br/>\n",
    "**TP** - Here is the real issue, because we dont have any true positive (correct predicted offers accepted), we cannot really predict if somebody will actually accept the offer.\n",
    "\n",
    "This confusion matrix tells us the same as the one from the first iteration. Our conclusion is that turning the false numerical values into categorial did not improve our accuracy score nor the confusion matrix, so these features must not have an impact on wether the customer accepts the offer or not."
   ]
  },
  {
   "cell_type": "markdown",
   "id": "trained-drain",
   "metadata": {},
   "source": [
    "#### ROC and AUC"
   ]
  },
  {
   "cell_type": "code",
   "execution_count": 159,
   "id": "latin-tanzania",
   "metadata": {},
   "outputs": [
    {
     "data": {
      "image/png": "[encoded data removed]",
      "text/plain": [
       "<Figure size 432x288 with 1 Axes>"
      ]
     },
     "metadata": {
      "needs_background": "light"
     },
     "output_type": "display_data"
    }
   ],
   "source": [
    "#calculating and visualizing ROC and AUC for it4\n",
    "y_pred_proba_i4 = classification_i4.predict_proba(X_i4_test)[::,1]\n",
    "fpr_i4, tpr_i4, _ = metrics.roc_curve(y_i4_test,  y_pred_proba_i4)\n",
    "auc_i4 = metrics.roc_auc_score(y_i4_test, y_pred_proba_i4)\n",
    "\n",
    "plt.plot(fpr_i4,tpr_i4,label=\"data_i4, auc_i4=\"+str(auc_i4), color = 'k')\n",
    "plt.legend(loc=4)\n",
    "plt.show()"
   ]
  },
  {
   "cell_type": "markdown",
   "id": "preceding-limitation",
   "metadata": {},
   "source": [
    "Also the ROC and AUC tell us the same as the one from the first iteration. Our conclusion that the changed num features dont impact the target is proven again."
   ]
  },
  {
   "cell_type": "markdown",
   "id": "chicken-sellers",
   "metadata": {},
   "source": [
    "## Modeling (X_i5)"
   ]
  },
  {
   "cell_type": "markdown",
   "id": "variable-commodity",
   "metadata": {},
   "source": [
    "We would like to try a 5th iteration and see if we use KNN based on the third iteration, can we manage to improve the accuracy score."
   ]
  },
  {
   "cell_type": "code",
   "execution_count": 119,
   "id": "acting-norman",
   "metadata": {},
   "outputs": [],
   "source": [
    "import warnings\n",
    "warnings.filterwarnings('ignore')\n",
    "warnings.filterwarnings(\"ignore\", message=\"numpy.ufunc size changed\")\n",
    "import matplotlib.pyplot as plt\n",
    "import seaborn as sns\n",
    "%matplotlib inline\n",
    "pd.set_option('display.max_columns', None)"
   ]
  },
  {
   "cell_type": "code",
   "execution_count": 120,
   "id": "cutting-placement",
   "metadata": {},
   "outputs": [],
   "source": [
    "from sklearn.cluster import KMeans\n",
    "from scipy.spatial.distance import cdist"
   ]
  },
  {
   "cell_type": "code",
   "execution_count": 121,
   "id": "ceramic-catalog",
   "metadata": {},
   "outputs": [],
   "source": [
    "#building a function to test the number of k neibors\n",
    "distortions = []\n",
    "inertias = []\n",
    "mapping1 = {}\n",
    "mapping2 = {}\n",
    "K = range(1, 5) #we try to build between 1 and 5 clusters\n",
    " \n",
    "for k in K: # allows us to go through several Ks\n",
    "    # Building and fitting the model\n",
    "    kmeanModel = KMeans(n_clusters=k).fit(X)\n",
    "    kmeanModel.fit(X) #here they bring in the model K\n",
    " \n",
    "    distortions.append(sum(np.min(cdist(X, kmeanModel.cluster_centers_,\n",
    "                                        'euclidean'), axis=1)) / X.shape[0])\n",
    "    inertias.append(kmeanModel.inertia_)\n",
    " \n",
    "    mapping1[k] = sum(np.min(cdist(X, kmeanModel.cluster_centers_,\n",
    "                                   'euclidean'), axis=1)) / X.shape[0]\n",
    "    mapping2[k] = kmeanModel.inertia_"
   ]
  },
  {
   "cell_type": "code",
   "execution_count": 122,
   "id": "grave-madrid",
   "metadata": {},
   "outputs": [
    {
     "name": "stdout",
     "output_type": "stream",
     "text": [
      "1:1.4275748750403356\n",
      "2:1.3139835839717795\n",
      "3:1.2462702933773406\n",
      "4:1.1952177138020574\n"
     ]
    }
   ],
   "source": [
    "#calling the function to get the distortion values for Ks\n",
    "for key, val in mapping1.items():\n",
    "    print(f'{key}:{val}')"
   ]
  },
  {
   "cell_type": "code",
   "execution_count": 158,
   "id": "original-balance",
   "metadata": {},
   "outputs": [
    {
     "data": {
      "text/plain": [
       "[<matplotlib.lines.Line2D at 0x7fa20c3f51f0>]"
      ]
     },
     "execution_count": 158,
     "metadata": {},
     "output_type": "execute_result"
    },
    {
     "data": {
      "image/png": "[encoded data removed]",
      "text/plain": [
       "<Figure size 432x288 with 1 Axes>"
      ]
     },
     "metadata": {
      "needs_background": "light"
     },
     "output_type": "display_data"
    }
   ],
   "source": [
    "#plotting the distortion graph\n",
    "plt.plot(K, distortions, 'bx-', color= 'k')"
   ]
  },
  {
   "cell_type": "code",
   "execution_count": 157,
   "id": "orange-hospital",
   "metadata": {},
   "outputs": [
    {
     "data": {
      "text/plain": [
       "[<matplotlib.lines.Line2D at 0x7fa20c2c5610>]"
      ]
     },
     "execution_count": 157,
     "metadata": {},
     "output_type": "execute_result"
    },
    {
     "data": {
      "image/png": "[encoded data removed]",
      "text/plain": [
       "<Figure size 432x288 with 1 Axes>"
      ]
     },
     "metadata": {
      "needs_background": "light"
     },
     "output_type": "display_data"
    }
   ],
   "source": [
    "#plotting the inertia graph\n",
    "plt.plot(K, inertias, 'bx-', color = 'k')"
   ]
  },
  {
   "cell_type": "markdown",
   "id": "forbidden-protein",
   "metadata": {},
   "source": [
    "We can see from the elbow curve that the highest drop is from 1 to 2 so we will proceed with n_neigbors = 2."
   ]
  },
  {
   "cell_type": "markdown",
   "id": "industrial-alaska",
   "metadata": {},
   "source": [
    "With the small number of neighbors we can say that the noise will have a higher influence on the result. Research has shown that a small amount of neighbors are most flexible fit which will have low bias but high variance."
   ]
  },
  {
   "cell_type": "markdown",
   "id": "false-alberta",
   "metadata": {},
   "source": [
    "Generally, KNN is not suitable for the large dimensional data. We will apply this with our third iteration, where we dropped a couple of features to improve the performance. "
   ]
  },
  {
   "cell_type": "code",
   "execution_count": 125,
   "id": "different-sodium",
   "metadata": {},
   "outputs": [],
   "source": [
    "#doing the train test split here\n",
    "from sklearn.model_selection import train_test_split\n",
    "\n",
    "X_k_train, X_k_test, y_k_train, y_k_test = train_test_split(X_i3, y_i3, test_size=0.3, random_state=40)"
   ]
  },
  {
   "cell_type": "markdown",
   "id": "pressing-premiere",
   "metadata": {},
   "source": [
    "#### Accuracy score"
   ]
  },
  {
   "cell_type": "code",
   "execution_count": 126,
   "id": "minor-gravity",
   "metadata": {},
   "outputs": [],
   "source": [
    "#importing new classifier for KNN\n",
    "from sklearn.neighbors import KNeighborsClassifier"
   ]
  },
  {
   "cell_type": "code",
   "execution_count": 127,
   "id": "complete-mozambique",
   "metadata": {},
   "outputs": [
    {
     "data": {
      "text/plain": [
       "0.8765359284380222"
      ]
     },
     "execution_count": 127,
     "metadata": {},
     "output_type": "execute_result"
    }
   ],
   "source": [
    "#applying classifier and fitting it to mode\n",
    "knn = KNeighborsClassifier(n_neighbors=2)\n",
    "knn.fit(X_k_train, y_k_train)\n",
    "knn.score(X_k_test, y_k_test)"
   ]
  },
  {
   "cell_type": "code",
   "execution_count": 128,
   "id": "controlled-adjustment",
   "metadata": {},
   "outputs": [],
   "source": [
    "#defining knn predictions\n",
    "knn_predictions = knn.predict(X_k_test)"
   ]
  },
  {
   "cell_type": "code",
   "execution_count": 129,
   "id": "substantial-kruger",
   "metadata": {},
   "outputs": [
    {
     "name": "stdout",
     "output_type": "stream",
     "text": [
      "Accuracy: 0.8765359284380222\n"
     ]
    }
   ],
   "source": [
    "print(\"Accuracy:\",metrics.accuracy_score(y_k_test, knn_predictions))"
   ]
  },
  {
   "cell_type": "markdown",
   "id": "atomic-episode",
   "metadata": {},
   "source": [
    "**Comparision accuracy it1, it2 and it3, it5**\n",
    "\n",
    "accuracy it1 = 0.94<br/>\n",
    "accuracy it2 = 0.70<br/>\n",
    "accuracy it3 = 0.69<br/>\n",
    "accuracy it5 = 0.84<br/>\n",
    "<br/>\n",
    "With applying the KNN model to our 3rd iteration and choosing 2 neigbors we were able to increase our accuracy from the last iteration. Its is not as good as the benchmark, but the benchmarkt was with heavily imbalanced target data.\n",
    "So this is a very promising development."
   ]
  },
  {
   "cell_type": "markdown",
   "id": "pursuant-lecture",
   "metadata": {},
   "source": [
    "#### Confusion matrix"
   ]
  },
  {
   "cell_type": "code",
   "execution_count": 130,
   "id": "paperback-contract",
   "metadata": {},
   "outputs": [
    {
     "data": {
      "text/plain": [
       "array([[4444,  603],\n",
       "       [ 653, 4473]])"
      ]
     },
     "execution_count": 130,
     "metadata": {},
     "output_type": "execute_result"
    }
   ],
   "source": [
    "#building new confusion matrix for it5\n",
    "cnf_matrix_i5 = confusion_matrix(y_k_test, knn_predictions)\n",
    "cnf_matrix_i5"
   ]
  },
  {
   "cell_type": "code",
   "execution_count": 148,
   "id": "significant-excellence",
   "metadata": {},
   "outputs": [
    {
     "data": {
      "image/png": "[encoded data removed]",
      "text/plain": [
       "<Figure size 432x288 with 2 Axes>"
      ]
     },
     "metadata": {
      "needs_background": "light"
     },
     "output_type": "display_data"
    }
   ],
   "source": [
    "#visualizing confusion matrix for it5\n",
    "group_names = ['True Neg','False Pos','False Neg','True Pos']\n",
    "group_counts = ['{0:0.0f}'.format(value) for value in\n",
    "                cnf_matrix_i5.flatten()]\n",
    "group_percentages = ['{0:.2%}'.format(value) for value in\n",
    "                     cnf_matrix_i5.flatten()/np.sum(cnf_matrix_i5)]\n",
    "labels = [f'{v1}\\n{v2}\\n{v3}' for v1, v2, v3 in\n",
    "          zip(group_names,group_counts,group_percentages)]\n",
    "labels = np.asarray(labels).reshape(2,2)\n",
    "sns.heatmap(cnf_matrix_i5, annot=labels, fmt='', cmap='PuRd');"
   ]
  },
  {
   "cell_type": "markdown",
   "id": "suburban-difference",
   "metadata": {},
   "source": [
    "**Comparision confusion matrix it1, it2, it3 and it5 (because it4 was almost the same as it1)**\n",
    "\n",
    "**confusion matrix it1**<br/>\n",
    "TN 6789 <br/>\n",
    "FN 401 <br/>\n",
    "FP 0 <br/>\n",
    "TP 0 <br/>\n",
    "\n",
    "TN + TP = 94,12%<br/>\n",
    "FP + FN =  5,88%<br/>\n",
    "\n",
    "**confusion matrix it2**<br/>\n",
    "TN 4568 <br/>\n",
    "FN 1822 <br/>\n",
    "FP 2140 <br/>\n",
    "TP 5034 <br/>\n",
    "\n",
    "TN + TP = 70,79%<br/>\n",
    "FP + FN = 29,21%<br/>\n",
    "\n",
    "**confusion matrix it3**<br/>\n",
    "TN 4599 <br/>\n",
    "FN 1877 <br/>\n",
    "FP 2154 <br/>\n",
    "TP 4934 <br/>\n",
    "\n",
    "TN + TP = 69,75%<br/>\n",
    "FP + FN = 30,25%<br/>\n",
    "\n",
    "**confusion matrix it5**<br/>\n",
    "TN 4424 <br/>\n",
    "FN 623 <br/>\n",
    "FP 655 <br/>\n",
    "TP 4471 <br/>\n",
    "\n",
    "TN + TP = 87,44%<br/>\n",
    "FP + FN = 12,56%<br/>\n",
    "\n",
    "The confusion matrix has massivly improved from ite3 to it5. We are now prediciting 87% of the values correctly.\n",
    "We predict the correctly accepted and declined values evenly, which is also promising."
   ]
  },
  {
   "cell_type": "markdown",
   "id": "random-bacon",
   "metadata": {},
   "source": [
    "#### ROC"
   ]
  },
  {
   "cell_type": "code",
   "execution_count": 156,
   "id": "employed-rouge",
   "metadata": {},
   "outputs": [
    {
     "data": {
      "image/png": "[encoded data removed]",
      "text/plain": [
       "<Figure size 432x288 with 1 Axes>"
      ]
     },
     "metadata": {
      "needs_background": "light"
     },
     "output_type": "display_data"
    }
   ],
   "source": [
    "#calculating and visualizing ROC and AUC for it5\n",
    "y_pred_proba_i5 = knn.predict_proba(X_k_test)[::,1]\n",
    "fpr, tpr, _ = metrics.roc_curve(y_k_test,  y_pred_proba_i5)\n",
    "auc_i5 = metrics.roc_auc_score(y_k_test, y_pred_proba_i5)\n",
    "\n",
    "plt.plot(fpr,tpr,label=\"data_i5, auc_i5=\"+str(auc), color='k')\n",
    "plt.legend(loc=4)\n",
    "plt.show()"
   ]
  },
  {
   "cell_type": "markdown",
   "id": "pointed-internship",
   "metadata": {},
   "source": [
    "**Comparision ROC & AUC it1, it2 and it3 and it5**\n",
    "\n",
    "AUC it1 = 0.94<br/>\n",
    "AUC it2 = 0.77<br/>\n",
    "AUC it3 = 0.76<br/>\n",
    "AUC it5 = 0.75<br/>\n",
    "\n",
    "<br/>\n",
    "\n",
    "The ROC looks very different compared to the other iterations. This must be due to the model change now using KNN and not logistic regression.\n",
    "The AUC of the model worsened a little bit. However as we can see in the iterations 2,3 and 5 the values are very close to each other."
   ]
  },
  {
   "cell_type": "markdown",
   "id": "collect-sessions",
   "metadata": {},
   "source": [
    "### Conclusion\n",
    "Our main findings from working through different iterations is that our accuracy improved the most (0.87) with applying the KNN method on top of the sampled data and with less features."
   ]
  },
  {
   "cell_type": "code",
   "execution_count": 2,
   "id": "bearing-direction",
   "metadata": {},
   "outputs": [
    {
     "ename": "NameError",
     "evalue": "name 'data_i3_withoutq' is not defined",
     "output_type": "error",
     "traceback": [
      "\u001b[0;31m---------------------------------------------------------------------------\u001b[0m",
      "\u001b[0;31mNameError\u001b[0m                                 Traceback (most recent call last)",
      "\u001b[0;32m<ipython-input-2-719f40336a95>\u001b[0m in \u001b[0;36m<module>\u001b[0;34m\u001b[0m\n\u001b[0;32m----> 1\u001b[0;31m \u001b[0mdata_i3_withoutq\u001b[0m\u001b[0;34m.\u001b[0m\u001b[0mto_csv\u001b[0m\u001b[0;34m(\u001b[0m\u001b[0;34mr'../data_sets/creditcardmarketing_withoutquarters.csv'\u001b[0m\u001b[0;34m)\u001b[0m\u001b[0;34m\u001b[0m\u001b[0;34m\u001b[0m\u001b[0m\n\u001b[0m\u001b[1;32m      2\u001b[0m \u001b[0mdata_numtocat\u001b[0m\u001b[0;34m.\u001b[0m\u001b[0mto_csv\u001b[0m\u001b[0;34m(\u001b[0m\u001b[0;34mr'../data_sets/creditcardmarketing_numtocat.csv'\u001b[0m\u001b[0;34m)\u001b[0m\u001b[0;34m\u001b[0m\u001b[0;34m\u001b[0m\u001b[0m\n",
      "\u001b[0;31mNameError\u001b[0m: name 'data_i3_withoutq' is not defined"
     ]
    }
   ],
   "source": [
    "data_i3_withoutq.to_csv(r'../data_sets/creditcardmarketing_withoutquarters.csv')\n",
    "data_numtocat.to_csv(r'../data_sets/creditcardmarketing_numtocat.csv')"
   ]
  },
  {
   "cell_type": "markdown",
   "id": "aggregate-links",
   "metadata": {},
   "source": [
    "## Next steps\n",
    "\n",
    "We could most likely try to further improve our model to get closer to the benchmark accuracy value from it1.\n",
    "\n",
    "Next steps could include to drop further features.\n",
    "First it will help the KNN model as it works better with less features.\n",
    "Secondly we realised from the visual exploration of the data in tableau that there are several of the now categorical features, that did not seem to impact our target. The reduce the noise further we would most likely only keep:\n",
    "- mailer type\n",
    "- reward\n",
    "- income level\n",
    "- avg balance\n"
   ]
  }
 ],
 "metadata": {
  "kernelspec": {
   "display_name": "Python 3",
   "language": "python",
   "name": "python3"
  },
  "language_info": {
   "codemirror_mode": {
    "name": "ipython",
    "version": 3
   },
   "file_extension": ".py",
   "mimetype": "text/x-python",
   "name": "python",
   "nbconvert_exporter": "python",
   "pygments_lexer": "ipython3",
   "version": "3.8.5"
  }
 },
 "nbformat": 4,
 "nbformat_minor": 5
}
